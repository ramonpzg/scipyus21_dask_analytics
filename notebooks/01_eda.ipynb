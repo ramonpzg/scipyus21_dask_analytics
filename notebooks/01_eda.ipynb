{
 "cells": [
  {
   "cell_type": "markdown",
   "id": "d2cde809-dda9-4df8-8b61-dc7f093432f3",
   "metadata": {},
   "source": [
    "# 01 Exploratory Data Analysis"
   ]
  },
  {
   "cell_type": "markdown",
   "id": "f23777d3-70db-40ef-8336-34cc4c3f533b",
   "metadata": {},
   "source": [
    "> “If you torture the data long enough, it will confess.” ~  Ronald H. Coase"
   ]
  },
  {
   "cell_type": "markdown",
   "id": "f3adc137-87ad-452c-8bc9-7654165b16bb",
   "metadata": {},
   "source": [
    "![img](https://mir-s3-cdn-cf.behance.net/project_modules/max_1200/9d6c1f20553607.562ed34ea3c77.jpg)\n",
    "\n",
    "**Source:**  [Valerio Pellegrini](https://www.behance.net/gallery/20553607/AFRICA-Big-Change-Big-Chance-Triennale-di-Milano)"
   ]
  },
  {
   "cell_type": "markdown",
   "id": "bf8e002c-61ca-4e0c-adb8-eb455aeb1618",
   "metadata": {},
   "source": [
    "## Learning Outcomes\n",
    "\n"
   ]
  },
  {
   "cell_type": "markdown",
   "id": "131f7144-53a8-4394-b8f1-d8084d5ce114",
   "metadata": {},
   "source": [
    "By the end of this notebook you will have\n",
    "- a better understanding of the differences between machine learning and statistics,\n",
    "- learned how to run regressions over partitions large datasets and groups of datasets,\n",
    "- learned how to take a model and create a quick-and-dirty application to showcase your work,\n",
    "- a better understanding of what spatial regression is and how to use it."
   ]
  },
  {
   "cell_type": "markdown",
   "id": "9c933106-17e6-48a7-a8eb-65337609ad11",
   "metadata": {},
   "source": [
    "## Table of Content"
   ]
  },
  {
   "cell_type": "markdown",
   "id": "c63b3f01-c251-4757-8808-2c817d8a9475",
   "metadata": {},
   "source": [
    "1. What is EDA?\n",
    "2. Questions to Explore\n",
    "3. Descriptive Statistics\n",
    "4. Major Descriptive Statistics\n",
    "5. Distributions\n",
    "6. ECDF and Histograms\n",
    "7. Summary"
   ]
  },
  {
   "cell_type": "markdown",
   "id": "6bf28c8f-ffb5-4677-a88f-e059e15dc56a",
   "metadata": {},
   "source": [
    "Let's start by loading in the packages we will use and the data."
   ]
  },
  {
   "cell_type": "code",
   "execution_count": null,
   "id": "0d4317b6-d9c4-4b5e-950b-b40020174b38",
   "metadata": {},
   "outputs": [],
   "source": [
    "from dask.diagnostics import ProgressBar\n",
    "import pandas as pd\n",
    "from os.path import join\n",
    "import dask.dataframe as dd\n",
    "import dask.array as da\n",
    "import numpy as np\n",
    "import holoviews as hv\n",
    "import panel as pn\n",
    "import hvplot.dask\n",
    "import hvplot.pandas\n",
    "from holoviews import opts\n",
    "\n",
    "hv.extension('bokeh')\n",
    "pn.extension()\n",
    "\n",
    "pd.options.display.max_columns = None\n",
    "pd.options.display.max_rows = None"
   ]
  },
  {
   "cell_type": "code",
   "execution_count": null,
   "id": "876fea20-5384-4cad-9601-2dd3b3fd1544",
   "metadata": {},
   "outputs": [],
   "source": [
    "data_path = join('..', 'data', 'final')"
   ]
  },
  {
   "cell_type": "markdown",
   "id": "6483b47f-b464-4e8e-b5e4-3a652a8fb48d",
   "metadata": {},
   "source": [
    "Remember, dask will not read in any data but rather a bit of each partition to make an inference regarding the data type of each column."
   ]
  },
  {
   "cell_type": "code",
   "execution_count": null,
   "id": "4f5dfdcd-cd5c-4888-9f71-fd798f5b70f6",
   "metadata": {},
   "outputs": [],
   "source": [
    "ddf = dd.read_parquet(data_path)\n",
    "ddf"
   ]
  },
  {
   "cell_type": "markdown",
   "id": "f5e02b8f-4f01-410b-9d1e-203cd736e9dd",
   "metadata": {},
   "source": [
    "We can check out how many partitions we have with the `.npartitions` attribute."
   ]
  },
  {
   "cell_type": "code",
   "execution_count": null,
   "id": "59f007fe-ba7e-4ad1-b26f-20401749872d",
   "metadata": {},
   "outputs": [],
   "source": [
    "ddf.npartitions"
   ]
  },
  {
   "cell_type": "markdown",
   "id": "fb553b33-2eb5-4ce8-81ce-0bbe9f122e99",
   "metadata": {},
   "source": [
    "The `.info()` will not provide as comprehensive a review of the dataframe as the one from pandas but it will give you an overview of the columns in the dataframe and their types."
   ]
  },
  {
   "cell_type": "code",
   "execution_count": null,
   "id": "84b27918-2c77-4885-8393-e22e71260a17",
   "metadata": {},
   "outputs": [],
   "source": [
    "ddf.info()"
   ]
  },
  {
   "cell_type": "markdown",
   "id": "b0f17edf-0b4e-48c8-a58f-b20473bb637d",
   "metadata": {},
   "source": [
    "The methods `.head()` and `.tail()` will always trigger a computation, and only the `.head()` method will allow us to select from how many paritions to take a sample from with the `npartitions=` argument (-1 will sample from all partitions)."
   ]
  },
  {
   "cell_type": "code",
   "execution_count": null,
   "id": "f55b3777-3541-435b-b962-ffddec504ee7",
   "metadata": {},
   "outputs": [],
   "source": [
    "# ddf.head()"
   ]
  },
  {
   "cell_type": "code",
   "execution_count": null,
   "id": "266b4164-6b25-4e57-b6ae-e900d434f146",
   "metadata": {},
   "outputs": [],
   "source": [
    "# ddf.tail()"
   ]
  },
  {
   "cell_type": "markdown",
   "id": "dbbc7fa2-b3e6-4ab9-a357-9687673b2b3f",
   "metadata": {},
   "source": [
    "If at any point your computer starts getting too slow to follow along, you can reduce the sample size using the cell below and continue with the process again with a smaller-in-size version. The `frac=` parameter takes the persentage of the dataset that you wish to use. The `.persist()` method makes sure you don't have to wait for that computation to happen again eveytime you run a function by persisting the state of that version of the dataframe."
   ]
  },
  {
   "cell_type": "code",
   "execution_count": null,
   "id": "94a6e641-d88a-47d5-875d-bc176bab53e1",
   "metadata": {},
   "outputs": [],
   "source": [
    "with ProgressBar():\n",
    "    ddf = ddf.sample(frac=0.3).persist()"
   ]
  },
  {
   "cell_type": "markdown",
   "id": "62c9228f-fc35-4cad-8a72-d77456390d5b",
   "metadata": {},
   "source": [
    "## 1. What is EDA?\n",
    "\n",
    "![gloabl_emission](https://mir-s3-cdn-cf.behance.net/project_modules/1400_opt_1/a199d32434363.5635ff285dc8d.jpg)\n",
    "\n",
    "**Source:** [Paulina Urbańska](https://www.behance.net/gallery/2434363/How-to-Reduce-CO2-Emission)"
   ]
  },
  {
   "cell_type": "markdown",
   "id": "985a6829-12bd-42ad-9794-c73bd5376914",
   "metadata": {},
   "source": [
    "Exploratory Data Analysis (EDA) is summarised in the name itself, it is an approach to data analysis where the goal is the exploration of the data and not necessarily hypothesis/model testing, although this can happen at this stage.\n",
    "\n",
    "[Wikepedia, along with all of its cited sources,](https://en.wikipedia.org/wiki/Exploratory_data_analysis) has a great definition which in turn was derived from the work of late John Tukey, a well-known statistician who is considered the creator of EDA as a concept and approach to data analysis.\n",
    "\n",
    "> In statistics, exploratory data analysis is an approach to analyzing data sets to summarize their main characteristics, often with visual methods. A statistical model can be used or not, but primarily EDA is for seeing what the data can tell us beyond the formal modeling or hypothesis testing task. Exploratory data analysis was promoted by John Tukey to encourage statisticians to explore the data, and possibly formulate hypotheses that could lead to new data collection and experiments. EDA is different from initial data analysis (IDA), which focuses more narrowly on checking assumptions required for model fitting and hypothesis testing, and handling missing values and making transformations of variables as needed. EDA encompasses IDA.\n",
    "\n",
    "Characteristics of EDA\n",
    "- It allows us to spot further inconsistencies within the data after the preparation stage\n",
    "- It helps us ask questions that expose facts about the data\n",
    "- It allows us to see complex interactions within the data\n",
    "- The visualisations at this stage are not \"necessarily\" meant to be publication-ready but rather quick and dirty constructs to asnwer questions from different perspectives"
   ]
  },
  {
   "cell_type": "markdown",
   "id": "203c8da0-df9b-4477-8ed2-c762a392e87c",
   "metadata": {},
   "source": [
    "## 2. Questions to Explore"
   ]
  },
  {
   "cell_type": "markdown",
   "id": "f629e30a-da49-41b9-9569-21362f823d6e",
   "metadata": {},
   "source": [
    "![funny_question](https://imgs.xkcd.com/comics/questions.png)  \n",
    "**Source:** [xkcd.com](https://xkcd.com/1256/)\n",
    "\n",
    "Here are the questions we will be exploring in this notebook. Before you head to the explanations, pause for a bit and think about how you would go about answering the following questions. Ask yourself, what kind of information would be most useful, which method/function and the like would be most appropriate to answer it? Should I visualise the answers as well?\n",
    "\n",
    "1. How many observations do we have across all markets?\n",
    "2. How many regular and super hosts does each market have?\n",
    "3. How many observations do we have per country?\n",
    "4. What is the average `cleaning_fee` per market?\n",
    "5. How have the average `price` and `cleaning_fee` of hosts changed since joining Airbnb over the years in `x` market (where `x` can be any market of your choice)?\n",
    "6. What is the median `price` per `market` and across the world?\n",
    "7. We saw earlier that the US has the most amount of listing but, which city across the world has the most amount of listings?\n",
    "8. What's the range of prices worldwide and across markets in our dataset?\n",
    "9. If the average price in our dataset is `$150` USD per night and we cannot spend more than `$400` USD per night on the vacation we want to take, within how many standard deviations is our max price from the mean regardless of the market?\n",
    "10. We've been told that hosts can change their prices as frequently as they'd like so with that in mind, let's calculate the variance of the `cleaning_fee` per market?\n",
    "11. What about the variance of the `cleaning_fee` across all markets?\n",
    "12. What is the average `review_scores_accuracy` per market and what kind of variations are we looking at?\n",
    "13. Are Airbnb prices normally distributed or do they have a skewed distribution?\n",
    "14. Is there a correlation between the increasing amount of hosts and the average price across years?\n",
    "15. What is the price distribution across listings given the cancelation policy addopted by the host?"
   ]
  },
  {
   "cell_type": "markdown",
   "id": "779189bd-5faa-4c41-b95d-68cc7a904bf3",
   "metadata": {},
   "source": [
    "## 3. Descriptive Statistics"
   ]
  },
  {
   "cell_type": "markdown",
   "id": "95eec6c7-3e7f-41f6-a048-a99f47b9cb00",
   "metadata": {},
   "source": [
    "![cool_stats](https://miro.medium.com/max/2416/1*x562RQ21PKPV4BCdt2TkJg.gif)\n",
    "**Source:** https://github.com/jwilber/roughViz"
   ]
  },
  {
   "cell_type": "markdown",
   "id": "2130a56b-ab9f-4684-90b8-8bafe27bdc26",
   "metadata": {},
   "source": [
    "**What are descriptive statistics?**\n",
    "\n",
    "Descriptive Statistics is the process of describing and presenting your data. This is usually done through tables, visualisations and written descriptions of data. For example, if you conduct a survey to find out how much people like a particular brand, you will want to report the number of people that took the survey (the count), the average, minimum, and maximum age or even the median income of every respondant. With these data alone, we could move onto to making more informed and important decisions. Let's dive a bit deeper into descriptive statistics."
   ]
  },
  {
   "cell_type": "markdown",
   "id": "c7ce7033-17c5-49d0-9903-33922bed1bcb",
   "metadata": {},
   "source": [
    "## 4. Major Descriptive Statistics"
   ]
  },
  {
   "cell_type": "markdown",
   "id": "59ec1297-7eb9-4e85-9102-9f46995b280c",
   "metadata": {},
   "source": [
    "## Count\n",
    "\n",
    "We will need to know how many observations (also known as the n count) are in our dataset and that is exactly what `len()` gives us. We pass an array of values or dataset through the function and it returns the number of all values in that data structure across the 0th axis. Here are some of the ways in which you can find the lenght with dask.\n",
    "\n",
    "- `len(ddf)` - returns the total amount of all in our dask dataframe\n",
    "- `ddf.shape[0].compute()` - returns the total amount of rows in our dask dataframe\n",
    "- `ddf.map_partitions(len).compute()` - returns the amount of rows in each partition\n",
    "- `ddf.index.value_counts().compute()` - if your index, like in our case, represents a unique value for each of thepartitions, then you can select and extract the value counts from it\n",
    "- `ddf[a_column].count().compute()` - will provide you with the count of your variable of interest. If none is specified, it will count the non-NA values of all the variables in your dataset\n",
    "\n",
    "**Note:** Those with the `.compute()` above would be lazily evaluated without it.\n",
    "\n",
    "### Question\n",
    "> How many observations do we have across all markets?"
   ]
  },
  {
   "cell_type": "code",
   "execution_count": null,
   "id": "7d5df2ed-cfb9-43e4-9dff-113684dc9dba",
   "metadata": {},
   "outputs": [],
   "source": [
    "with ProgressBar():\n",
    "    display(len(ddf))"
   ]
  },
  {
   "cell_type": "markdown",
   "id": "826f17c3-2994-46de-92ad-f954ec99f619",
   "metadata": {},
   "source": [
    "### Question\n",
    "> How many regular and super hosts does each market have?"
   ]
  },
  {
   "cell_type": "code",
   "execution_count": null,
   "id": "cd074214-aa11-4bce-9282-2d762daaa975",
   "metadata": {},
   "outputs": [],
   "source": [
    "with ProgressBar():\n",
    "    display(ddf.host_is_superhost.value_counts().compute())"
   ]
  },
  {
   "cell_type": "markdown",
   "id": "9eecec01-529a-48e9-8c79-8ebb39b0a430",
   "metadata": {},
   "source": [
    "### Question\n",
    "> How many observations do we have per country?"
   ]
  },
  {
   "cell_type": "code",
   "execution_count": null,
   "id": "8e6d6508-2136-48a2-a59d-1f0f3bc27afd",
   "metadata": {},
   "outputs": [],
   "source": [
    "ddf.country.value_counts().hvplot.bar(rot=75, yformatter='%.0i', title=\"Number of Observations per Country\")"
   ]
  },
  {
   "cell_type": "markdown",
   "id": "da52b1e3-2da3-41cd-a4a8-f108bda23d87",
   "metadata": {},
   "source": [
    "Note that in the line above we used `hvplot` instead of your tipycal `.plot()` from pandas. This is what allows us to have an interactive chart with bokeh rather than matplotlib. If you ever need help figuring out what parameters to use with hvplot or how to use them, don't hesitate to use the `ddf.hvplot.bar??` or `help(ddf.hvplot.bar)`."
   ]
  },
  {
   "cell_type": "code",
   "execution_count": null,
   "id": "13fa6175-5c8b-4456-b000-20c186d5af56",
   "metadata": {},
   "outputs": [],
   "source": [
    "# ddf.hvplot.bar??"
   ]
  },
  {
   "cell_type": "code",
   "execution_count": null,
   "id": "a946f6ec-ca0b-4c7b-9322-d81428dda094",
   "metadata": {
    "scrolled": true,
    "tags": []
   },
   "outputs": [],
   "source": [
    "# help(ddf.hvplot.bar)"
   ]
  },
  {
   "cell_type": "markdown",
   "id": "60fee8e5-0c3b-4120-a2b0-c0bbe9b8d25f",
   "metadata": {},
   "source": [
    "## Exercise\n",
    "\n",
    "1. How many observations do we have per market?\n",
    "2. How many markets do we have per country?"
   ]
  },
  {
   "cell_type": "code",
   "execution_count": null,
   "id": "17bf5d9d-ae20-4186-b3c0-d8070fe73a90",
   "metadata": {},
   "outputs": [],
   "source": []
  },
  {
   "cell_type": "code",
   "execution_count": null,
   "id": "46dd4db2-c23a-4180-be84-fd56b9144ed6",
   "metadata": {},
   "outputs": [],
   "source": []
  },
  {
   "cell_type": "code",
   "execution_count": null,
   "id": "3b7e8b0d-decc-46c8-883b-5cc8c40c70fb",
   "metadata": {},
   "outputs": [],
   "source": []
  },
  {
   "cell_type": "markdown",
   "id": "2a208f24-cbe3-4f45-8a8e-607f1a597a1a",
   "metadata": {},
   "source": [
    "## Mean\n",
    "\n",
    "What we call the mean is actually the arithmetic mean. This is the sum of all the values in a set or array, divided by the amount of numbers in such array. While zeros are always counted in the arithmetic mean, in dask and pandas, empty values or `NaN`s are never counted towards the result of the operation.\n",
    "\n",
    "- `ddf[your_col].mean().compute()` - returns the mean of a column acros the entire dataframe.\n",
    "- `ddf.groupby(categoical_col)[numerical_col].mean().compute()` - returns the mean of a column given a set of categories. You can select more variables if you'd like inside a list in the `.groupby()` method.\n",
    "- `ddf[your_column].map_partitions(np.mean).compute()` - returns the mean of a column in each partition.\n",
    "- `ddf['your_column'].map_partitions(lambda x: (x.index.unique()[0], np.mean(x))).compute()` - returns the mean of a column by each partition and some unique identifier for that partition. In our case, that would be the index.\n",
    "\n",
    "**Note:** Those with the `.compute()` above would be lazily evaluated without it.\n",
    "\n",
    "### Question\n",
    "> What is the average `cleaning_fee` per market?"
   ]
  },
  {
   "cell_type": "code",
   "execution_count": null,
   "id": "d6c63bda-38ee-4d14-8e4f-4e155a80b9fe",
   "metadata": {
    "scrolled": true,
    "tags": []
   },
   "outputs": [],
   "source": [
    "with ProgressBar():\n",
    "    clean_group = ddf.loc[:, ['major_city', 'cleaning_fee']].groupby('market')['cleaning_fee'].mean().compute()\n",
    "    \n",
    "clean_group"
   ]
  },
  {
   "cell_type": "markdown",
   "id": "9eb77fdb-c816-40db-8b83-22b9f5e5d6fa",
   "metadata": {},
   "source": [
    "We can also visualize the result using `hvplot.bar`. Note that in the call above, we are selecting the columns we need before using the `.groupby()` method. This is to help improve at least a bit, the speed at which the computations are done."
   ]
  },
  {
   "cell_type": "code",
   "execution_count": null,
   "id": "5164cc34-ffb5-42dc-845a-3f0fdae4d371",
   "metadata": {},
   "outputs": [],
   "source": [
    "clean_group.hvplot.bar(rot=75).sort('cleaning_fee')"
   ]
  },
  {
   "cell_type": "markdown",
   "id": "7fe5ce51-7d94-4fac-95cd-b3069e4a7150",
   "metadata": {},
   "source": [
    "Another way to get the mean of each partition even faster, is by using the `.map_partitions()` method on our dask dataframe. Note that this is efficient for each market only because we have completely segregated partitions. Otherwise, this could potentially be a computationally intensive operation."
   ]
  },
  {
   "cell_type": "code",
   "execution_count": null,
   "id": "5906cdab-3717-4eb2-94bb-01a1c73e414b",
   "metadata": {
    "scrolled": true,
    "tags": []
   },
   "outputs": [],
   "source": [
    "with ProgressBar():\n",
    "    display(ddf['cleaning_fee'].map_partitions(lambda x: (x.index.unique()[0], np.mean(x))).compute())"
   ]
  },
  {
   "cell_type": "markdown",
   "id": "61465319-f8be-4f71-acde-a8eba7b10574",
   "metadata": {},
   "source": [
    "### Question\n",
    "> How have the average `price` and `cleaning_fee` of hosts changed since joining Airbnb over the years in `x` market (where `x` can be any market of your choice)?\n",
    "\n",
    "**Note:** this question is a bit tricky as we don't really have the source of truth for the years but rather a proxy date variable, `host_since`,  that tells us when hosts joined Airbnb up until last year.\n",
    "\n",
    "To extract the year out of our `host_since` column we will first convert it into a date type with `dd.to_datetime()` and then extract the attibute using `dt.year`. We will assign it back to the dataframe using the `assign` method."
   ]
  },
  {
   "cell_type": "code",
   "execution_count": null,
   "id": "376bc1de-99f4-4faa-95b5-25fde359d921",
   "metadata": {},
   "outputs": [],
   "source": [
    "host_since = dd.to_datetime(ddf['host_since']).dt.year\n",
    "ddf1 = ddf.assign(year_host_since=host_since)"
   ]
  },
  {
   "cell_type": "markdown",
   "id": "a203d5ec-a4a7-48f4-b67f-a4b6810cf5dc",
   "metadata": {},
   "source": [
    "Now we can select our columns of interest and the market we want to check our. Let's use a `.grouby()` method to do our desired aggregation and then visualize it using `hvplot`."
   ]
  },
  {
   "cell_type": "code",
   "execution_count": null,
   "id": "671a59d1-8068-42ac-b7f6-849b0c326445",
   "metadata": {},
   "outputs": [],
   "source": [
    "mkt = 'Los Angeles'\n",
    "our_cols_of_interest = ['year_host_since', 'price', 'cleaning_fee']\n",
    "\n",
    "a_gr = ddf1.loc[mkt, our_cols_of_interest].groupby('year_host_since')[['price', 'cleaning_fee']].mean().compute()"
   ]
  },
  {
   "cell_type": "code",
   "execution_count": null,
   "id": "30deba3c-630e-4180-acd8-56432fef036b",
   "metadata": {},
   "outputs": [],
   "source": [
    "a_gr.hvplot.step(x='year_host_since', y=['price', 'cleaning_fee'], alpha=0.4, width=800, legend='top_left', title=f\"Average Price Movement in {mkt}\")"
   ]
  },
  {
   "cell_type": "markdown",
   "id": "0c71b0fa-c68b-4fe7-8d43-8ab1e88bdbcc",
   "metadata": {},
   "source": [
    "The chart above is called a step chart and it helps us evaluate how a numerical variable has changed over the years."
   ]
  },
  {
   "cell_type": "markdown",
   "id": "b94e84f0-b6bc-4096-82ea-9e5cc981bfae",
   "metadata": {},
   "source": [
    "## Exercise\n",
    "\n",
    "Create a stepchart to evaluate the movement of listing over the years."
   ]
  },
  {
   "cell_type": "code",
   "execution_count": null,
   "id": "53f4c22e-ad1e-4e86-b5d7-59bcdc02ccd5",
   "metadata": {},
   "outputs": [],
   "source": []
  },
  {
   "cell_type": "code",
   "execution_count": null,
   "id": "537488f7-f5c2-4826-8bca-28530adf0354",
   "metadata": {},
   "outputs": [],
   "source": []
  },
  {
   "cell_type": "markdown",
   "id": "7846586f-86ee-46e1-97d9-11c566d33f67",
   "metadata": {},
   "source": [
    "## Median\n",
    "\n",
    "The median will order an array of numbers from lowest to highest and select the number in the middle. Another way of thinking of the median is that the it is effectively the 50th percentile of any array. If the array has an even amount of numbers, it will return the average of the middle two numbers. If the arrays has an odd amount of numbers, it will return the one in the middle. As you can imagine this type of operation can be quite costly in a dristributed system as it would have to do a full pass over the entire dataset and its partitions.\n",
    "\n",
    "In dask, we do not have the `.median()` method but rather the `.quantile()` one, to which we can specify which percentile we want from the data and the default value is the median. Another way to compute the median is by using the `.map_partitions()` method we used earlier and get a value for each partition.\n",
    "\n",
    "**Note:** the median provided by `.quantile()` on a dask dataframe or series is not that of the entire dataset but rather that of the partitions, to get the full median we would need to convert the dask series into a numpy array and use `dask.array` or we could bring down the entire dask series into a pandas series by calling `.compute()` on it. Then we would pass pandas or numpy's `median` function to that new pandas series.\n",
    "\n",
    "- `ddf[numerical_col].quantile(0.5).compute()` - this will provide you with the median of the partitions not the median of the entire dataset.\n",
    "- `ddf[numerical_col'].map_partitions(np.median).compute()` - results in the median of your variable of interest across each partition.\n",
    "- `da.median(ddf.price.to_dask_array(lengths=True), axis=0).compute()` - returns the median of the entire array after converting the dask series into a dask array with the same partitions/chunks\n",
    "- `ddf.price.compute().quantile(0.5)` - bring the dask series down to a pandas series and compute pandas' quantile function on it\n",
    "- `ddf.price.compute().median()` - bring the dask series down to a pandas series and compute pandas' median function on it\n",
    "\n",
    "### Question\n",
    "> What is the median `price` per `market` and across the world?"
   ]
  },
  {
   "cell_type": "code",
   "execution_count": null,
   "id": "c77a1172-8b03-493b-b56e-3a601cc83e09",
   "metadata": {
    "tags": []
   },
   "outputs": [],
   "source": [
    "with ProgressBar():\n",
    "    md_price = ddf1.price.quantile(0.5).compute()\n",
    "    print(f\"The median price across all markets is ${md_price}!\")"
   ]
  },
  {
   "cell_type": "code",
   "execution_count": null,
   "id": "108f98e4-8a53-4ff3-a93a-026a32511bf7",
   "metadata": {
    "scrolled": true,
    "tags": []
   },
   "outputs": [],
   "source": [
    "%%time\n",
    "\n",
    "print(\"Here are the median prices per market!\")\n",
    "ddf1['price'].map_partitions(lambda x: (x.index.unique()[0], np.median(x))).compute()"
   ]
  },
  {
   "cell_type": "code",
   "execution_count": null,
   "id": "7e1c63dc-2bea-4e43-87a6-77726d2d0108",
   "metadata": {},
   "outputs": [],
   "source": [
    "with ProgressBar():\n",
    "    real_med = ddf1.price.compute().quantile(0.5)\n",
    "    print(f\"This is the real median value across of the World -- ${real_med}\")"
   ]
  },
  {
   "cell_type": "code",
   "execution_count": null,
   "id": "7172c690-35aa-42d1-8e40-83555a35ea3c",
   "metadata": {},
   "outputs": [],
   "source": [
    "with ProgressBar():\n",
    "    real_med = da.median(ddf1.price.to_dask_array(lengths=True), axis=0).compute()\n",
    "    print(f\"This is the real median value across of the World -- ${real_med}\")"
   ]
  },
  {
   "cell_type": "markdown",
   "id": "56fe5d54-11d8-4ee0-a5e6-6f343aee5372",
   "metadata": {},
   "source": [
    "## Exercise\n",
    "\n",
    "What is the median review score per market? Visualize it with hvplot."
   ]
  },
  {
   "cell_type": "code",
   "execution_count": null,
   "id": "c274d54d-db12-4bc6-a484-f56ec1feb00b",
   "metadata": {},
   "outputs": [],
   "source": []
  },
  {
   "cell_type": "code",
   "execution_count": null,
   "id": "cbbbed1f-aaf9-4654-aa6e-a42c7ecea937",
   "metadata": {},
   "outputs": [],
   "source": []
  },
  {
   "cell_type": "markdown",
   "id": "c6d678c6-c7f6-415e-9e08-f1567ade7a93",
   "metadata": {},
   "source": [
    "## Mode\n",
    "\n",
    "Mode is the most frequent number in an array of numbers. To get the mode we can pass the `.mode()` method to a dask series or we can take advantage of the method `.value_counts()`. The difference between the two is that the former will provide us with exactly one value while the latter will give us all of the counts for the categories available in a column with the first being naturally the most common one.\n",
    "\n",
    "### Question\n",
    "> We saw earlier that the US has the most amount of listing but, which city across the world has the most amount of listings?"
   ]
  },
  {
   "cell_type": "code",
   "execution_count": null,
   "id": "c0e3baaf-3597-4842-98e4-62f1eaca6513",
   "metadata": {},
   "outputs": [],
   "source": [
    "ddf['city'].mode().compute()"
   ]
  },
  {
   "cell_type": "code",
   "execution_count": null,
   "id": "f5fb29a2-210a-4605-9f0f-c146adffebc9",
   "metadata": {},
   "outputs": [],
   "source": [
    "# we can select the element with the .item() method\n",
    "ddf['city'].mode().compute().item()"
   ]
  },
  {
   "cell_type": "markdown",
   "id": "bb81118f-0d5e-4137-99e1-349aaf72781c",
   "metadata": {},
   "source": [
    "### Exercise\n",
    "\n",
    "1. What is the most common type of cancelation policy per markets?\n",
    "2. How many times does the most common one appear?"
   ]
  },
  {
   "cell_type": "code",
   "execution_count": null,
   "id": "51aed521-09fa-4292-a0ae-e33c25ba8b9a",
   "metadata": {},
   "outputs": [],
   "source": []
  },
  {
   "cell_type": "code",
   "execution_count": null,
   "id": "a45720ab-3fcc-47b9-9b34-0a826ba938ef",
   "metadata": {},
   "outputs": [],
   "source": []
  },
  {
   "cell_type": "markdown",
   "id": "73a32444-28b7-4825-a69c-decd2624ac46",
   "metadata": {},
   "source": [
    "## Min, Max and Range\n",
    "\n",
    "The Range of a set is the difference between the maximum and minimum numbers of said set, and the minimum and the maximum are the lowest and highest values in an set, respectively. These are useful when we have quantitative variables such as income, or house prices, but not so much when we have categorical variables such as gender or weekdays. In dask, we can get the `.min()` and the `.max()` of an entire column by applying such methods to the variables we are interested in.\n",
    "\n",
    "\n",
    "### Question\n",
    "> What's the range of prices worldwide and across markets in our dataset?"
   ]
  },
  {
   "cell_type": "code",
   "execution_count": null,
   "id": "56cde018-2ea1-4514-967d-05df438db400",
   "metadata": {},
   "outputs": [],
   "source": [
    "with ProgressBar():\n",
    "    max_price = ddf.price.max()\n",
    "    min_price = ddf.price.min()\n",
    "    price_range = (max_price - min_price).compute()\n",
    "    \n",
    "price_range"
   ]
  },
  {
   "cell_type": "markdown",
   "id": "701ba150-11f2-42a1-89e6-f66b3d321267",
   "metadata": {},
   "source": [
    "That's an awfully high range. Let's find that place."
   ]
  },
  {
   "cell_type": "code",
   "execution_count": null,
   "id": "a8b785c4-a41f-4249-b22c-9b1518046f91",
   "metadata": {},
   "outputs": [],
   "source": [
    "high_price = ddf1.loc[ddf1.price > price_range - 10, 'picture_url'].compute()\n",
    "high_price.head()"
   ]
  },
  {
   "cell_type": "code",
   "execution_count": null,
   "id": "8c99e2b4-cf82-4b11-82eb-52a45e6502cc",
   "metadata": {},
   "outputs": [],
   "source": [
    "pn.pane.image.JPG(high_price.item())"
   ]
  },
  {
   "cell_type": "markdown",
   "id": "d943768f-94dd-4dd3-8105-65a79e7c3e77",
   "metadata": {},
   "source": [
    "We can only say one thing to the person for this listing."
   ]
  },
  {
   "cell_type": "code",
   "execution_count": null,
   "id": "66d0a094-00ee-4091-9e75-d8216c374be9",
   "metadata": {},
   "outputs": [],
   "source": [
    "pn.pane.image.GIF('https://media.giphy.com/media/j4lJOuwvAzyRcnWrFi/giphy.gif')"
   ]
  },
  {
   "cell_type": "markdown",
   "id": "2f298554-87d5-4347-ba6c-2c562ad63a76",
   "metadata": {},
   "source": [
    "## Standard Deviation\n",
    "\n",
    "The **Standard Deviation** measures the dispersion of some data from its mean. Think of the dispertion of (normally distributed) data as percentage blocks surrounding the average, mean and median values as seen on the picture below. To get the standard deviation in dask we use the following functions.\n",
    "\n",
    "- `ddf[numerical_col].std().compute()`\n",
    "- `da.std(ddf[numerical_col].to_dask_array(lengths=True), axis=0).compute()`\n",
    "\n",
    "\n",
    "![std](https://sway.office.com/s/EfPj5fmDwSziDupy/images/iJQFxVhHL6o7Sq?quality=860&allowAnimation=false)\n",
    "\n",
    "**Source:** https://sixsigmadsi.com/standard-deviation-measure-of-dispersion/\n",
    "\n",
    "Every data point in these blocks is said to be 1, 2, or 3 standard deviations away from the mean.\n",
    "\n",
    "$\\sigma = \\sqrt{\\dfrac {1}{n-1}\\sum _{i=1}\\left( x_{i}-\\overline {x}\\right) ^{2}}$\n",
    "\n",
    "In the folmula above, \n",
    "- $\\overline{x}$ stands for the sample mean\n",
    "- $n$ is the lenght of the array, vector, set, or list\n",
    "- $\\dfrac{1}{n-1}$ means we will divide everything by the lenght minus 1\n",
    "- The greek letter $\\sum$ denotes sumation, we add everything immediately after\n",
    "- $x_{i}$ means every `x` value in our array starting from `i`. In python that `i` might be index 0 of an iterable\n",
    "- $\\left( x_{i}-\\overline {x}\\right) ^{2}$ means the square difference\n",
    "- $\\sigma$ --> sigma == Result == standard deviation\n",
    "\n",
    "\n",
    "### Question\n",
    "> If the average price in our dataset is `$150` USD per night and we cannot spend more than `$400` USD per night on the vacation we want to take, within how many standard deviations is our max price from the mean regardless of the market?"
   ]
  },
  {
   "cell_type": "code",
   "execution_count": null,
   "id": "c688281b-ffa9-4311-83f6-452e1aaa7326",
   "metadata": {},
   "outputs": [],
   "source": [
    "print(f\"Remember our average price, ${round(ddf1.price.mean().compute(), 2)}\")"
   ]
  },
  {
   "cell_type": "code",
   "execution_count": null,
   "id": "62ff8d3e-adbf-4cc8-913b-8cee547834fc",
   "metadata": {},
   "outputs": [],
   "source": [
    "with ProgressBar():\n",
    "    display(ddf1.price.std().compute())"
   ]
  },
  {
   "cell_type": "code",
   "execution_count": null,
   "id": "c3372871-ec30-42a8-b82e-da2c9d3b8f84",
   "metadata": {},
   "outputs": [],
   "source": [
    "with ProgressBar():\n",
    "    price_array = ddf1.price.to_dask_array(lengths=True)\n",
    "    std_price = da.std(price_array, axis=0).compute()\n",
    "    print(std_price)"
   ]
  },
  {
   "cell_type": "markdown",
   "id": "36cfd57a-14e8-44ac-bcb7-c9613b699ee6",
   "metadata": {},
   "source": [
    "Given our budget, it appears that that we have to stay within one standard deviation to the right of the mean."
   ]
  },
  {
   "cell_type": "markdown",
   "id": "60ca625d-3668-4f2f-9858-73b48689bf42",
   "metadata": {},
   "source": [
    "## Exercise"
   ]
  },
  {
   "cell_type": "markdown",
   "id": "4019287c-7c1c-4e96-8b03-f58f20342ecd",
   "metadata": {},
   "source": [
    "> Within how many standard deviations from the mean is the `cleaning_fee` in each market?\n",
    "\n",
    "> Can you compute the standard deviation from `security_fee` with any function but the respective ones above?"
   ]
  },
  {
   "cell_type": "code",
   "execution_count": null,
   "id": "b9425f3c-e0ec-4cd6-9ac0-cfece41d2318",
   "metadata": {},
   "outputs": [],
   "source": []
  },
  {
   "cell_type": "code",
   "execution_count": null,
   "id": "e614b7a5-61bd-42ea-9adb-15e333dc053e",
   "metadata": {},
   "outputs": [],
   "source": []
  },
  {
   "cell_type": "code",
   "execution_count": null,
   "id": "3bbb332f-08cc-48a3-bf60-941f8c25d48a",
   "metadata": {},
   "outputs": [],
   "source": []
  },
  {
   "cell_type": "markdown",
   "id": "c3e05208-31eb-44b8-b464-5d6a7af4059c",
   "metadata": {},
   "source": [
    "## Variance"
   ]
  },
  {
   "cell_type": "markdown",
   "id": "b429847c-2627-417b-ac2b-1f2d29426634",
   "metadata": {},
   "source": [
    "Variance tells us how much variation to expect from our variable(x) of interest ($x$). For example, say we have two groups with 5 professional athletes in each. One group has soccer players and the other has tennis players. Now imagine we first ask each person in a group how much they spend eating out each week, and then we calculate the average of those amounts. Once we do this, we are surprised to find out that both groups of athletes spend the same on average eating out, about 570/week. Here is the data.\n",
    "\n",
    "| Athlete | Group | Money Spent/Week |\n",
    "|:-------:|:----------------:|:----------------:|\n",
    "| Serena Williams | Tennis | \\$570 |\n",
    "| Roger Federer | Tennis | \\$570 |\n",
    "| Venus Williams | Tennis | \\$570 |\n",
    "| Rafael Nadal | Tennis | \\$570 |\n",
    "| Maria Sharapova | Tennis | \\$570 |\n",
    "| Cristiano Ronaldo | Soccer | \\$700 |\n",
    "| Hope Solo | Soccer | \\$380 |\n",
    "| Loenel Messi | Soccer | \\$200 |\n",
    "| Mia Hamm | Soccer | \\$650 |\n",
    "| Diego Maradona | Soccer | \\$920 |\n",
    "\n",
    "\n",
    "Although the average is the same for both groups, the variation per group and player (as seen above) is extremely large. The tennis group's variation is equal to `0` while the variation of the soccer group is much greater than that.\n",
    "\n",
    "In essence, the variance is the number we get from squaring the standard deviation we calculated above. Here is the mathematical formula for the variance before we see it in code.\n",
    "\n",
    "$\\sigma^{2}=\\dfrac {1}{n-1}\\sum _{i}\\left( x_{i}-\\overline {x}\\right) ^{2}$\n",
    "\n",
    "In the folmula above, \n",
    "- $\\overline{X}$ stands for the mean\n",
    "- $n$ is the lenght of the array, vector, set, or list\n",
    "- $\\dfrac{1}{n-1}$ means we will divide everything by the lenght\n",
    "- The greek letter $\\sum$ denotes sumation\n",
    "- $x_{i}$ means every `x` value starting from `i`. In other words, every element of the array\n",
    "- $\\sigma^{2}$ --> squared standard deviation, aka result\n",
    "- $\\left( x_{i}-\\overline {x}\\right) ^{2}$ means the square difference\n",
    "\n",
    "With dask we would use.\n",
    "\n",
    "- `ddf[numerical_col].var().compute()`\n",
    "- `da.var(ddf[numerical_col].to_dask_array(lengths=True), axis=0).compute()`\n",
    "\n",
    "\n",
    "### Question\n",
    "> We've been told that hosts can change their prices as frequently as they'd like so with that in mind, let's calculate the variance of the `cleaning_fee` per market?"
   ]
  },
  {
   "cell_type": "code",
   "execution_count": null,
   "id": "33f453bd-f0e4-4909-833e-8761645ce234",
   "metadata": {
    "scrolled": true,
    "tags": []
   },
   "outputs": [],
   "source": [
    "with ProgressBar():\n",
    "    display(ddf1.cleaning_fee.map_partitions(lambda x: (x.index.unique()[0], round(np.var(x), 2))).compute())"
   ]
  },
  {
   "cell_type": "markdown",
   "id": "03e7b0c9-bc22-4a0e-85cf-ad4c7346a51b",
   "metadata": {},
   "source": [
    "> What about the variance of the `cleaning_fee` across all markets?"
   ]
  },
  {
   "cell_type": "code",
   "execution_count": null,
   "id": "4ce17d32-7c49-41e1-87ca-0aaa6211181c",
   "metadata": {},
   "outputs": [],
   "source": [
    "with ProgressBar():\n",
    "    price_array = ddf1.cleaning_fee.to_dask_array(lengths=True)\n",
    "    var_clean = da.var(price_array, axis=0).compute()\n",
    "    print(var_clean)"
   ]
  },
  {
   "cell_type": "markdown",
   "id": "0f0db662-6c5e-4eb9-8168-853f84144a56",
   "metadata": {},
   "source": [
    "Renting a place where the information provided is as accurate as possible is very important. With that in mind,\n",
    "> What is the average `review_scores_accuracy` per market and what kind of variations are we looking at?"
   ]
  },
  {
   "cell_type": "code",
   "execution_count": null,
   "id": "8e6e86e6-5e22-4de5-8c4b-471723664f98",
   "metadata": {},
   "outputs": [],
   "source": [
    "def get_mkt_mean_var(data, num_col):\n",
    "    mk = data.index.unique()[0]\n",
    "    mean = data[num_col].mean()\n",
    "    var = data[num_col].var()\n",
    "    return pd.DataFrame([[mk, mean, var]], columns=['mk', 'mean', 'var'])"
   ]
  },
  {
   "cell_type": "code",
   "execution_count": null,
   "id": "3ec3c552-b235-439b-9278-5195e5d81603",
   "metadata": {},
   "outputs": [],
   "source": [
    "ddf1.review_scores_accuracy.describe().compute()"
   ]
  },
  {
   "cell_type": "code",
   "execution_count": null,
   "id": "0d9787b4-9880-4e9f-bb88-b3c0180ccf76",
   "metadata": {
    "scrolled": true,
    "tags": []
   },
   "outputs": [],
   "source": [
    "with ProgressBar():\n",
    "    display(ddf1.map_partitions(get_mkt_mean_var, num_col='review_scores_accuracy').compute())"
   ]
  },
  {
   "cell_type": "markdown",
   "id": "749d189e-db08-40d7-a399-3646d83eb6be",
   "metadata": {},
   "source": [
    "Here is one of the downfalls of the variance, it not often as easy to interpret as other statistics."
   ]
  },
  {
   "cell_type": "code",
   "execution_count": null,
   "id": "786bb365-60f6-4206-86f6-eec47cbb0056",
   "metadata": {
    "scrolled": true,
    "tags": []
   },
   "outputs": [],
   "source": [
    "with ProgressBar():\n",
    "    display(ddf1.groupby('market')['review_scores_accuracy'].agg(['mean', 'var']).compute())"
   ]
  },
  {
   "cell_type": "markdown",
   "id": "16613467-4b59-43f0-9fb8-c02134214003",
   "metadata": {},
   "source": [
    "## Exercise\n",
    "\n",
    "> What does the variation of non-zero reviews ratings (`review_scores_rating`) look like?"
   ]
  },
  {
   "cell_type": "code",
   "execution_count": null,
   "id": "d0626065-b1dd-4f7b-8c5c-ae117de44969",
   "metadata": {},
   "outputs": [],
   "source": []
  },
  {
   "cell_type": "code",
   "execution_count": null,
   "id": "18fabfec-6b1e-4670-8eea-0e2d9d302a13",
   "metadata": {},
   "outputs": [],
   "source": []
  },
  {
   "cell_type": "markdown",
   "id": "299c206d-4cc2-440c-bb2d-a774d8bd80eb",
   "metadata": {},
   "source": [
    "## Skewness\n",
    "\n",
    "The Skewness of an array tells us how distorted the distribution of such array is from the most common value or the peak of the curve. A rightly-skewed distribution is said to be positively skewed, and the reverse means that there will be a mountain going on the opposite direction (see below).\n",
    "\n",
    "![skewness](https://4.bp.blogspot.com/-e-CL8iluz2o/Vt3Ntg_38kI/AAAAAAAAIJo/zGJMyNaMbFY/s1600/skewed.jpg)  \n",
    "**Source:** https://www.resourceaholic.com/p/resource-library-statistics-level.html\n",
    "\n",
    "$Skewness = \\frac{\\sum_{i=1}^{N} (X_{i} - \\overline{X})^{3}}{(N - 1)\\sigma^3}$\n",
    "\n",
    "In the folmula above, \n",
    "- $\\overline{X}$ stands for the mean\n",
    "- $N$ is the lenght of the array, vector, set, or list\n",
    "- The greek letter $\\sum$ denotes sumation\n",
    "- $X_{i}$ means every `x` value in our array starting from `i=1`\n",
    "- $\\sigma^3$ --> standard deviation to the cube\n",
    "\n",
    "Another important point to remember is that the mean of a positively-skewed distribution will be larger than the median, and the opposite is true for a negatively-skewed distribution. When skeweness is zero, there's no distortion in the distribution.\n",
    "\n",
    "### Question\n",
    "> Are Airbnb prices normally distributed or do they have a skewed distribution?"
   ]
  },
  {
   "cell_type": "code",
   "execution_count": null,
   "id": "e4e3a762-6d0d-42bd-8fef-1c7450d4e629",
   "metadata": {},
   "outputs": [],
   "source": [
    "ddf.price.skew().compute()"
   ]
  },
  {
   "cell_type": "markdown",
   "id": "b1681c90-6139-444b-ad2a-c8e0abc87157",
   "metadata": {},
   "source": [
    "They are indeed very skewed. What if we take some outliers out, would this help?"
   ]
  },
  {
   "cell_type": "code",
   "execution_count": null,
   "id": "8da15ba2-dc63-40e3-8884-d7d12a89381a",
   "metadata": {},
   "outputs": [],
   "source": [
    "ddf2 = ddf1[ddf1.price < ddf1.price.quantile(0.99)] \n",
    "ddf3 = ddf2[ddf2.price > ddf2.price.quantile(0.01)]"
   ]
  },
  {
   "cell_type": "code",
   "execution_count": null,
   "id": "26008da5-7673-4863-bdc0-c4e9c2075da2",
   "metadata": {},
   "outputs": [],
   "source": [
    "with ProgressBar():\n",
    "    display(ddf3.price.skew().compute())"
   ]
  },
  {
   "cell_type": "markdown",
   "id": "916f060c-b1aa-4294-89fc-97a33a06c603",
   "metadata": {},
   "source": [
    "Still skewed but not as before."
   ]
  },
  {
   "cell_type": "markdown",
   "id": "5cda5526-4884-4320-bd00-e1fb33611e99",
   "metadata": {},
   "source": [
    "## Correlation"
   ]
  },
  {
   "cell_type": "markdown",
   "id": "e648c4b8-8e1e-402f-95fc-19405d07a89d",
   "metadata": {},
   "source": [
    "As data analysts we want to be able to determine how does one variable changes or moves in relation to another. We can do this visually using quantitative variables and scatter plots or with some handy mathematical functions that we can either create ourselves, or use from some of the libraries in the Python Scientific Stack.\n",
    "\n",
    "**Correlation** is a measure of how strongly related two variables are with one another. It gives us a way of quantifying the similarity, disimilarity, or lack-therof between variables. The value of the correlation between two variables goes from -1 to 1, where 1 means positively correlated, -1 means negatively correlated, and 0 means no correlation whatsoever. This value can be derived by calculating the **Pearson Correlation Coefficient**, among other measures.\n",
    "\n",
    "![corr](https://external-content.duckduckgo.com/iu/?u=https%3A%2F%2Fi0.wp.com%2Fvalmikiacademy.com%2Fwp-content%2Fuploads%2Fcorrelation2.png%3Fresize%3D859%252C289&f=1&nofb=1)  \n",
    "**Source:** [Investopedia](https://www.investopedia.com/ask/answers/032515/what-does-it-mean-if-correlation-coefficient-positive-negative-or-zero.asp)\n",
    "\n",
    "The mathematical formula is:\n",
    "\n",
    "$r_{xy}=\\dfrac {\\sum \\left( x_{i}-\\overline {x}\\right) \\left( y_{i}-\\overline {y}\\right) }{\\sqrt {\\sum \\left( x_{i}-\\overline {x}\\right) ^{2}\\sum \\left( y_{i}-\\overline {y}\\right) ^{2}}}$\n",
    "\n",
    "\n",
    "Where\n",
    "\n",
    "- $r_{xy}$ is the relationship between the variables X and Y\n",
    "- $x_{i}$ is every element in array X\n",
    "- $y_{i}$ is every element in array Y\n",
    "- $\\overline {x}$ is the mean of array X\n",
    "- $\\overline {y}$ is the mean of array Y\n",
    "\n",
    "\n",
    "## Question\n",
    "> Is there a correlation between the increasing amount of hosts and the average price across years?\n",
    "\n",
    "In more econ-like terms, this question might be pose as, are the entrance of participants pushing the price of a listing up or down?"
   ]
  },
  {
   "cell_type": "code",
   "execution_count": null,
   "id": "0b33ccd5-3430-4ea9-9c02-f8d944d52c5c",
   "metadata": {},
   "outputs": [],
   "source": [
    "days = dd.to_datetime(ddf3.host_since).dt.month.astype(str).apply(lambda x: '0'+x if len(x) == 1 else x, meta=str)\n",
    "months = dd.to_datetime(ddf3.host_since).dt.year.astype(str)\n",
    "day_month = days + '-' + months"
   ]
  },
  {
   "cell_type": "code",
   "execution_count": null,
   "id": "766ae374-49c6-47ac-a24b-f5925976a670",
   "metadata": {},
   "outputs": [],
   "source": [
    "day_month.head()"
   ]
  },
  {
   "cell_type": "code",
   "execution_count": null,
   "id": "de735bf7-1d94-4935-8b79-624bef670d38",
   "metadata": {},
   "outputs": [],
   "source": [
    "ddf4 = ddf3.assign(day_month=day_month)"
   ]
  },
  {
   "cell_type": "code",
   "execution_count": null,
   "id": "03183118-9cdb-467b-94e5-7e48d8d102d1",
   "metadata": {},
   "outputs": [],
   "source": [
    "mkt = 'San Francisco'\n",
    "var_of_interest = 'host_id'\n",
    "num_var = 'price'"
   ]
  },
  {
   "cell_type": "code",
   "execution_count": null,
   "id": "9bfca2da-2c4e-4511-994d-62389c099428",
   "metadata": {},
   "outputs": [],
   "source": [
    "one_group = ddf4.loc[mkt, :].groupby('day_month').agg({var_of_interest: 'count', num_var: 'mean'})\n",
    "one_group.head()"
   ]
  },
  {
   "cell_type": "code",
   "execution_count": null,
   "id": "1431d000-d461-4148-955b-148aeb35e74a",
   "metadata": {},
   "outputs": [],
   "source": [
    "one_group.corr().compute()"
   ]
  },
  {
   "cell_type": "code",
   "execution_count": null,
   "id": "bce90004-88b0-401c-89e7-9a1ce7728c26",
   "metadata": {
    "scrolled": true,
    "tags": []
   },
   "outputs": [],
   "source": [
    "# opts.Scatter??"
   ]
  },
  {
   "cell_type": "code",
   "execution_count": null,
   "id": "86c49c0b-23eb-4d47-a30b-283715bdec17",
   "metadata": {},
   "outputs": [],
   "source": [
    "scatter = hv.Scatter(one_group, var_of_interest, num_var) \n",
    "scatter"
   ]
  },
  {
   "cell_type": "markdown",
   "id": "63831ece-8d73-49ac-9069-0764ffb695af",
   "metadata": {},
   "source": [
    "Let's make that scatter plot a bit prettier."
   ]
  },
  {
   "cell_type": "code",
   "execution_count": null,
   "id": "00455b45-d578-46b5-be2f-40be72c80391",
   "metadata": {},
   "outputs": [],
   "source": [
    "(scatter * hv.Slope.from_scatter(scatter)).opts(width=600, height=500, title=\"Correlation between the # of hosts and the average price/listing\")"
   ]
  },
  {
   "cell_type": "markdown",
   "id": "3540e8b3-cb3a-4c2d-9a8b-907f5a9a4a65",
   "metadata": {},
   "source": [
    "## Exercise\n",
    "\n",
    "Is there a relationship between the amount of people a listing accommodates and the amount of hosts joining the market across the years?"
   ]
  },
  {
   "cell_type": "code",
   "execution_count": null,
   "id": "d27744fb-d809-400c-9315-d833b8e6828d",
   "metadata": {},
   "outputs": [],
   "source": []
  },
  {
   "cell_type": "code",
   "execution_count": null,
   "id": "035a4099-ab41-4d11-b8d5-87a579bb40df",
   "metadata": {},
   "outputs": [],
   "source": []
  },
  {
   "cell_type": "markdown",
   "id": "c5cd6976-0637-4ac7-997a-1b8b48ae5f41",
   "metadata": {},
   "source": [
    "## 3.3 Distributions"
   ]
  },
  {
   "cell_type": "markdown",
   "id": "b93b3e61-d6eb-40f4-af91-beff006b8508",
   "metadata": {},
   "source": [
    "When we think of distributions we usually ask ourselves whether the numerical variable we're interested in follows a normal distribution or not.\n",
    "\n",
    "We can use different tools to visually evaluate the distribution of a variable.\n",
    "\n",
    "- ECDFs or Empirical Cummulative Distribution Functions: \"is an estimate of the cumulative distribution function that generated the points in the sample. It converges with probability 1 to that underlying distribution. This cumulative distribution function is a step function that jumps up by 1/n at each of the n data points. Its value at any specified value of the measured variable is the fraction of observations of the measured variable that are less than or equal to the specified value.\" ~ [Wikipedia](https://en.wikipedia.org/wiki/Empirical_distribution_function)\n",
    "- Box Plots: \"In descriptive statistics, a box plot or boxplot is a method for graphically depicting groups of numerical data through their quartiles. Box plots may also have lines extending from the boxes (whiskers) indicating variability outside the upper and lower quartiles, hence the terms box-and-whisker plot and box-and-whisker diagram. Outliers may be plotted as individual points. Box plots are non-parametric: they display variation in samples of a statistical population without making any assumptions of the underlying statistical distribution.\" ~ [Wikipedia](https://en.wikipedia.org/wiki/Box_plot)\n",
    "- Histograms: \"A histogram is an approximate representation of the distribution of numerical data. It was first introduced by Karl Pearson. To construct a histogram, the first step is to \"bin\" (or \"bucket\") the range of values—that is, divide the entire range of values into a series of intervals—and then count how many values fall into each interval. The bins are usually specified as consecutive, non-overlapping intervals of a variable. The bins (intervals) must be adjacent and are often (but not required to be) of equal size.\" ~ [Wikipedia](https://en.wikipedia.org/wiki/Histogram)\n",
    "- KDEs or Kernel Density Estimation: \"In statistics, kernel density estimation (KDE) is a non-parametric way to estimate the probability density function of a random variable. Kernel density estimation is a fundamental data smoothing problem where inferences about the population are made, based on a finite data sample. In some fields such as signal processing and econometrics it is also termed the Parzen–Rosenblatt window method, after Emanuel Parzen and Murray Rosenblatt, who are usually credited with independently creating it in its current form. One of the famous applications of kernel density estimation is in estimating the class-conditional marginal densities of data when using a naive Bayes classifier, which can improve its prediction accuracy.\" ~ [Wikipedia](https://en.wikipedia.org/wiki/Kernel_density_estimation)\n",
    "\n",
    "In essence, we want to know where do values accumulate at, what is the range of such values, whether our data is skew and/or what is the kurtosis of such distribution.\n",
    "\n",
    "### Question\n",
    "> What is the price distribution across listings given the cancelation policy addopted by the host?"
   ]
  },
  {
   "cell_type": "code",
   "execution_count": null,
   "id": "c8595977-f58d-4be5-8430-6f1959d7177c",
   "metadata": {},
   "outputs": [],
   "source": [
    "rev_cols = ['review_scores_accuracy', 'review_scores_checkin', 'review_scores_cleanliness',\n",
    "            'review_scores_communication', 'review_scores_location', 'review_scores_rating', 'review_scores_value']"
   ]
  },
  {
   "cell_type": "code",
   "execution_count": null,
   "id": "451f4cfd-b47c-4721-b8a2-fc33b0636398",
   "metadata": {},
   "outputs": [],
   "source": [
    "mkt = 'London'\n",
    "num_val = 'price'\n",
    "cat_val = 'cancellation_policy'\n",
    "\n",
    "with ProgressBar():\n",
    "    my_viz = ddf4.loc[mkt, [num_val, cat_val]].hvplot.box(y=num_val, by=cat_val, legend=False, invert=True)\n",
    "    \n",
    "my_viz"
   ]
  },
  {
   "cell_type": "markdown",
   "id": "26fcbe6a-72a7-44f1-a858-32aa9b2250b2",
   "metadata": {},
   "source": [
    "## ECDFs"
   ]
  },
  {
   "cell_type": "code",
   "execution_count": null,
   "id": "b0734da2-0983-41c9-a98f-b52221370ab0",
   "metadata": {},
   "outputs": [],
   "source": [
    "def ecdf(data, col) -> pd.DataFrame:\n",
    "#     temp = np.array([data.major_city.unique()[0], np.sort(data[col]), np.arange(1, len(data[col]) + 1) / len(data[col])]).reshape(1, 3)\n",
    "    temp = [data.major_city.unique()[0], np.sort(data[col]), np.arange(1, len(data[col]) + 1) / len(data[col])]\n",
    "    \n",
    "    return pd.DataFrame([temp], columns=['market', 'sorted', 'dist']).set_index('market')"
   ]
  },
  {
   "cell_type": "code",
   "execution_count": null,
   "id": "21de19e6-e0ae-49fa-a9a9-3d2ebc354623",
   "metadata": {},
   "outputs": [],
   "source": [
    "with ProgressBar():\n",
    "    ecdf_dists = ddf4.map_partitions(ecdf, col='price').compute()"
   ]
  },
  {
   "cell_type": "code",
   "execution_count": null,
   "id": "670f0138-c6c3-4235-9d8a-580c4f07eb6a",
   "metadata": {},
   "outputs": [],
   "source": [
    "mkt = 'London'"
   ]
  },
  {
   "cell_type": "code",
   "execution_count": null,
   "id": "3e8a1f22-7ebb-4f74-9845-5536d544ef92",
   "metadata": {},
   "outputs": [],
   "source": [
    "srt = ecdf_dists.loc[mkt, :].loc['sorted']#.item()#.plot(x='sorted', y='dist', kind='scatter')\n",
    "dst = ecdf_dists.loc[mkt, :].loc['dist']"
   ]
  },
  {
   "cell_type": "code",
   "execution_count": null,
   "id": "3d6e24ae-86a7-46a9-9d9a-e03a0d5a3074",
   "metadata": {},
   "outputs": [],
   "source": [
    "dtf = pd.DataFrame(zip(srt, dst), columns=['sorted', 'dist'])\n",
    "dtf.hvplot.scatter(x='sorted', y='dist').opts(xlim=(0, 1500))"
   ]
  },
  {
   "cell_type": "code",
   "execution_count": null,
   "id": "4a065bce-e131-4283-ac60-ca1383fb17ce",
   "metadata": {},
   "outputs": [],
   "source": [
    "mkts = pn.widgets.Select(value='Amsterdam', options=list(ecdf_dists.index), name='Markets Distribution')\n",
    "mkts"
   ]
  },
  {
   "cell_type": "code",
   "execution_count": null,
   "id": "938980f0-52ba-49ac-96e2-97a9bdb71953",
   "metadata": {},
   "outputs": [],
   "source": [
    "@pn.depends(mkts.param.value)\n",
    "def plot_ecdfs(mkts):\n",
    "    \n",
    "    srt = ecdf_dists.loc[mkts, :].loc['sorted']#.item()#.plot(x='sorted', y='dist', kind='scatter')\n",
    "    dst = ecdf_dists.loc[mkts, :].loc['dist']\n",
    "    dtf = pd.DataFrame(zip(srt, dst), columns=['sorted', 'dist'])\n",
    "    \n",
    "    return dtf.hvplot.scatter(x='sorted', y='dist').opts(xlim=(0, 1500))"
   ]
  },
  {
   "cell_type": "code",
   "execution_count": null,
   "id": "d9eb0fcc-747a-444d-946f-852819f0c954",
   "metadata": {},
   "outputs": [],
   "source": [
    "pn.Column(mkts, plot_ecdfs)"
   ]
  },
  {
   "cell_type": "markdown",
   "id": "a938af5a-c978-4ed3-a3e0-ece1d32ad084",
   "metadata": {},
   "source": [
    "## Histograms"
   ]
  },
  {
   "cell_type": "code",
   "execution_count": null,
   "id": "2338e1c1-abc1-479e-8285-95e2c9798915",
   "metadata": {},
   "outputs": [],
   "source": [
    "log_price = da.log(ddf4.price)\n",
    "ddf5 = ddf4.assign(log_price=log_price)"
   ]
  },
  {
   "cell_type": "code",
   "execution_count": null,
   "id": "71e9297e-7560-4ad5-941f-6ec021e49e97",
   "metadata": {},
   "outputs": [],
   "source": [
    "new_std = round(ddf5.price.std().compute(), 2)\n",
    "std_log = round(np.log(new_std), 2)\n",
    "new_std, std_log"
   ]
  },
  {
   "cell_type": "code",
   "execution_count": null,
   "id": "d214e847-fd6c-4773-9948-cdbabcbe6700",
   "metadata": {},
   "outputs": [],
   "source": [
    "(ddf5.hvplot.hist(y='price', alpha=0.5, bins=500, color='green') * hv.VLine(new_std)).opts(xlim=(0, 2000))"
   ]
  },
  {
   "cell_type": "code",
   "execution_count": null,
   "id": "5f8f299a-bc69-41b7-94ae-4ee4c7170168",
   "metadata": {},
   "outputs": [],
   "source": [
    "(ddf5.hvplot.hist(y='log_price', alpha=0.5, color='green', bins=100) * hv.VLine(std_log))"
   ]
  },
  {
   "cell_type": "code",
   "execution_count": null,
   "id": "f284d9c8-78db-42dc-9b4c-279bbcf16a82",
   "metadata": {},
   "outputs": [],
   "source": [
    "ddf5.hvplot.kde(y='log_price', alpha=0.5, value_label='L', legend='top_right') * hv.VLine(std_log)"
   ]
  },
  {
   "cell_type": "markdown",
   "id": "74d2b95a-1adc-4521-989b-a20b4e981817",
   "metadata": {},
   "source": [
    "What did we do to our dataframes"
   ]
  },
  {
   "cell_type": "code",
   "execution_count": null,
   "id": "2f49f4b6-c47a-4212-8ac8-6bcbdaf7b542",
   "metadata": {},
   "outputs": [],
   "source": [
    "ddf5.visualize()"
   ]
  },
  {
   "cell_type": "markdown",
   "id": "222ba8c0-4d3c-43c2-a455-569d23919da0",
   "metadata": {},
   "source": [
    "## Exercise\n",
    "\n",
    "Imagine you are looking for the next best place to go to for vacation, and here are some of the questions you are curious about?\n",
    "\n",
    "1. What's the difference in the average price charged by super hosts versus the regular ones?\n",
    "2. Do more bathrooms make a listing more expensive? 🛁 | 🚽\n",
    "3. Do more rooms make a listing more expensive? \n",
    "4. Does the availability of more beds make a listing more expensive? 🛏\n",
    "5. Is there a noticeable price difference between room types offered by hosts? 🏘\n",
    "6. Is there a noticeable price difference between room types that offer different quantities of beds in the listing? 🛏 + 🛏 != 🛏\n",
    "7. How important is it that our host is a verified one? ✍🏽\n",
    "8. Should we care whether the listings asks for a license or not?\n",
    "9. Do we need Wifi, or can we be without it?\n",
    "10. Reviews! How important are they in our decision to buy or not to buy? 🤔\n",
    "11. Do we care about the cancellation policy?\n",
    "12. What is the average price difference between getting a listing that can be booked instantly vs one that we cannot book it instantly?\n",
    "13. What is the price difference between listings that charge a security deposit vs those that don't?\n",
    "14. What does the average price between different property types look like?"
   ]
  },
  {
   "cell_type": "code",
   "execution_count": null,
   "id": "6e5f9103-7837-45b6-8457-e8241e553721",
   "metadata": {},
   "outputs": [],
   "source": []
  },
  {
   "cell_type": "code",
   "execution_count": null,
   "id": "0bd6bd6a-09a3-407d-9f9a-1e7ee3fa137e",
   "metadata": {},
   "outputs": [],
   "source": []
  },
  {
   "cell_type": "markdown",
   "id": "ee008cb6-3dee-438a-af90-fbf6557b84b3",
   "metadata": {},
   "source": [
    "## 7. Summary"
   ]
  },
  {
   "cell_type": "markdown",
   "id": "273839d7-8bb6-4b7e-bffc-b70b9e127643",
   "metadata": {},
   "source": [
    "1. EDA does not have a clear cup path but is rather handy approach to getting to know more about our data.\n",
    "2. When trying to ask questions about large datasets, we can interrogate each piece of it using dask or the whole as we see fit. This would required creating partitions that make sense for your use case so that you can operate on both levels. For example, partition by dates if your dataset is time dependant, is an excellent approach.\n",
    "3. Desciptive statistics are useful in isolation and combination with other variables, especially when we have a lot of data and can split numerical values by categories to our hearts content.\n",
    "4. You can operate on each of your partitions as if it was a pandas dataframe using `.map_partitions()` method and either a custom made function or a one off lambda one.\n",
    "5. Even if you thoroughtly prepared your data, it might require more massaging as you explore it.\n",
    "6. No question is dumb, ask and validate your thoughts as you go."
   ]
  },
  {
   "cell_type": "code",
   "execution_count": null,
   "id": "f514400e-492f-48f2-9ea1-8567b61670fb",
   "metadata": {},
   "outputs": [],
   "source": []
  }
 ],
 "metadata": {
  "kernelspec": {
   "display_name": "Python 3",
   "language": "python",
   "name": "python3"
  },
  "language_info": {
   "codemirror_mode": {
    "name": "ipython",
    "version": 3
   },
   "file_extension": ".py",
   "mimetype": "text/x-python",
   "name": "python",
   "nbconvert_exporter": "python",
   "pygments_lexer": "ipython3",
   "version": "3.9.5"
  }
 },
 "nbformat": 4,
 "nbformat_minor": 5
}
