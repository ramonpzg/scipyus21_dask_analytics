{
 "cells": [
  {
   "cell_type": "markdown",
   "id": "8b262057-442c-4ca8-b885-1c34e01eb5d4",
   "metadata": {},
   "source": [
    "# 03 Dashboards"
   ]
  },
  {
   "cell_type": "markdown",
   "id": "f530f554-59fa-4ffd-90a8-23e3b66399e9",
   "metadata": {},
   "source": [
    "> \"A point of view can be a dangerous luxury when substituted for insight and understanding.\" ~ Marshall McLuhan"
   ]
  },
  {
   "cell_type": "markdown",
   "id": "328e3614-2b56-40b5-b5ab-280e52472c40",
   "metadata": {},
   "source": [
    "![img](https://i.stack.imgur.com/mzoPv.jpg)\n",
    "\n",
    "**Source:** [National Geographic - World of Rivers](https://www.nationalgeographic.org/hires/world-rivers/)"
   ]
  },
  {
   "cell_type": "markdown",
   "id": "f55f688f-8b3d-4ba4-9b63-52bdcd200d8a",
   "metadata": {},
   "source": [
    "## Learning Outcomes\n",
    "\n"
   ]
  },
  {
   "cell_type": "markdown",
   "id": "001d25ab-d7a3-47c9-acad-76c79864ba1e",
   "metadata": {},
   "source": [
    "By the end of the notebook you will have\n",
    "- A better understanding on how to build dashboards with interactive components in them\n",
    "- Learned about different data visualization techniques\n",
    "- Learned how to create maps and their key components\n",
    "- Learned how to create themes for your applications"
   ]
  },
  {
   "cell_type": "markdown",
   "id": "c665cfc8-89a3-4e19-993a-50829cf5e270",
   "metadata": {},
   "source": [
    "## Table of Contents"
   ]
  },
  {
   "cell_type": "markdown",
   "id": "e7e1bf10-7c7d-4a27-a440-081fbbe91063",
   "metadata": {},
   "source": [
    "1. The Dashboard\n",
    "2. The Canvas and Questions\n",
    "3. How does the Interactivity work?\n",
    "4. Connecting the Dots\n",
    "5. The Maps\n",
    "6. The BANs\n",
    "7. The Tile\n",
    "8. Putting it all Together\n",
    "9. Adding Themes to your dashboard\n",
    "10. Summary"
   ]
  },
  {
   "cell_type": "code",
   "execution_count": null,
   "id": "30a449d4-0ac3-4436-b1f7-2b763e157aea",
   "metadata": {},
   "outputs": [],
   "source": [
    "from dask.diagnostics import ProgressBar\n",
    "import pandas as pd, numpy as np\n",
    "from os.path import join\n",
    "import dask.dataframe as dd, dask.array as da\n",
    "import holoviews as hv\n",
    "import panel as pn\n",
    "import geoviews as gv\n",
    "from holoviews.element import tiles\n",
    "import geopandas as gpd\n",
    "from IPython.display import HTML\n",
    "\n",
    "hv.extension('bokeh')\n",
    "pn.extension()\n",
    "\n",
    "\n",
    "pd.options.display.max_columns = None\n",
    "pd.options.display.max_rows = None"
   ]
  },
  {
   "cell_type": "code",
   "execution_count": null,
   "id": "2733dff8-87e1-4467-9111-fd7f3415a186",
   "metadata": {},
   "outputs": [],
   "source": [
    "data_path = join('..', 'data', 'final')\n",
    "geo_path = join('..', 'data', 'external')"
   ]
  },
  {
   "cell_type": "code",
   "execution_count": null,
   "id": "034a0791-28ab-4051-85d9-424547270cef",
   "metadata": {},
   "outputs": [],
   "source": [
    "ddf = dd.read_parquet(data_path)"
   ]
  },
  {
   "cell_type": "markdown",
   "id": "e054150d-eda6-4889-90dc-40e65cca4b30",
   "metadata": {},
   "source": [
    "If at any point your computer starts getting too slow to follow along, you can reduce the sample size using the cell below and continue with the process again with a smaller-in-size version. The `frac=` parameter takes the persentage of the dataset that you wish to use. The `.persist()` method makes sure you don't have to wait for that computation to happen again eveytime you run a function by persisting the state of that version of the dataframe."
   ]
  },
  {
   "cell_type": "code",
   "execution_count": null,
   "id": "67648f3b-0fd9-4070-a4b1-691309ae7ef7",
   "metadata": {},
   "outputs": [],
   "source": [
    "with ProgressBar():\n",
    "    ddf2 = ddf.sample(frac=0.3).persist()"
   ]
  },
  {
   "cell_type": "markdown",
   "id": "329ccf2a-c9fb-4cfe-831f-57c56353917a",
   "metadata": {},
   "source": [
    "## 1. The Dashboard"
   ]
  },
  {
   "cell_type": "markdown",
   "id": "a43a0ab1-f19a-480d-a0ec-89377ca8fbc4",
   "metadata": {},
   "source": [
    "There is an HTML copy of the dashboard available in a folder called, **dashboards**, and the following command run and display the dasboard in your notebook."
   ]
  },
  {
   "cell_type": "code",
   "execution_count": null,
   "id": "7e0074b1-229c-41e0-987d-2d62e39b6d05",
   "metadata": {},
   "outputs": [],
   "source": [
    "HTML('dashboards/my_dash.html')"
   ]
  },
  {
   "cell_type": "markdown",
   "id": "04fc9b0c-bee1-462b-9d84-6fe8fdf511de",
   "metadata": {},
   "source": [
    "## 2. The Canvas and Questions"
   ]
  },
  {
   "cell_type": "markdown",
   "id": "d82d9c1b-bd3e-4cf7-8285-35ca34bd80a5",
   "metadata": {},
   "source": [
    "![a_canva](https://media.giphy.com/media/4y6DqPvlICp5S/giphy.gif)\n",
    "\n",
    "As mentioned in section 04, panel is a tool to help us create apps and dashboards in pure Python that it also contains a JavaScript extention. You can think of panel as the canvas you will use to share your visualisations. It has been built on top of bokeh and the library param and provides the best of both worlds to its users.\n",
    "\n",
    "There are three main components in the library and these are a `pane`, a `widget`, and `panel`. A `pane` creates renderable objects from almost any data type, chart, or other object in Python and allows us to put it inside our application/dashboard. A widget gives interactivity to an object. Lastly, `panel`s are what will compose our dashboards and applications. Hence, they can contain `pane`s, a `widget`s, and other `panel`s.\n",
    "\n",
    "IN addition, panel has four major containers that allow us to create apps, and we will be using all 4 today to get to know them and reconstruct our dashboards. Here are the definitions of such components\n",
    "\n",
    "- **Row** - rows are like python lists that can hold any kind of data type, graph, chart, picture, gif, etc. while keeping the functionality of a list (e.g. you can extend them, index into them, and more). It allows you to resize or  fix the sizing of your app or dashboard, and it also let's you change the background color of it.\n",
    "- **Column** - columns behave in the same way as rows but vertically\n",
    "- **Tabs** tabs can be used for multiple views of a dashboard and multiple views of widgetds within a dashboard. You can inser rows, columns, grids, tables, charts, and more into any one given tab. \n",
    "- **GridSpec** - a gridspec is like a numpy matrix that behaves like a list in the sense that it has the same functionalities of a nested one. You can assign objects to it by indexing them and them adding them as a normal operation to your desire location, for example\n",
    "\n",
    "```python\n",
    "my_grid = GridSpec()\n",
    "\n",
    "# first row and third column\n",
    "my_grid[0, 2] = first_chart\n",
    "```\n",
    "\n",
    "All four components above can be used in combinations, and from experience, the best results can be achieved with a combination of Rows and Columns.\n",
    "\n",
    "There are some options that are not so optional to get a good looking dashboard up and running so let's talk about all of them before we implement them.\n",
    "- `background` - takes a HEX color as a string to fill the background of your panel element\n",
    "- `sizing_mode` - it controls the size of your panel objects\n",
    "- `width_policy` - it controls whether the width should change or be fixed, this option takes priority if `sizing_mode` has also been specified\n",
    "- `height_policy` - it controls whether the height should change or be fixed, this option takes priority if `sizing_mode` has also been specified\n",
    "- `align` - controls whether the object should be in the center or elsewhere\n",
    "- `height` - fixed height\n",
    "- `width` - fixed width\n",
    "- `max_height` - don't go above x number\n",
    "- `max_width` - don't go above x number\n",
    "- `min_height` - don't go below x number\n",
    "- `min_width` - don't go below x number\n",
    "- `margin` - space between your object and the borders\n",
    "\n",
    "\n",
    "**NB**: To use panel's interactivity within a notebook we have to run `pn.extension()` at the beginning of our notebook as was done above."
   ]
  },
  {
   "cell_type": "code",
   "execution_count": null,
   "id": "ec3bc5f2-0df0-4e01-b0dd-94084277dd81",
   "metadata": {},
   "outputs": [],
   "source": [
    "title_row = pn.Row('# This is our Test Title', background='blue', width=1000)\n",
    "title_row"
   ]
  },
  {
   "cell_type": "code",
   "execution_count": null,
   "id": "8d673589-a555-4c08-acc8-40b973fe83db",
   "metadata": {},
   "outputs": [],
   "source": [
    "first_row = pn.Row(\"Median Price\", \"75th Percentile\", \"Max Price\", width=500)"
   ]
  },
  {
   "cell_type": "code",
   "execution_count": null,
   "id": "7c542549-77a1-4b0a-b7eb-1887a7b4c3c5",
   "metadata": {},
   "outputs": [],
   "source": [
    "right_side = pn.Column(first_row, \"What does the geographic distribution of prices across markets look like?\", background='cyan', width=500, height=700)\n",
    "right_side"
   ]
  },
  {
   "cell_type": "code",
   "execution_count": null,
   "id": "ad08a785-754c-441a-99b1-12fd27868125",
   "metadata": {},
   "outputs": [],
   "source": [
    "main_row = pn.Row(\"How do prices differ across markets between regular hosts and super hosts\", right_side, background='white', width=1000, height=700)\n",
    "main_row"
   ]
  },
  {
   "cell_type": "code",
   "execution_count": null,
   "id": "8ea3d76f-e35e-42c2-972b-8507eb418d04",
   "metadata": {},
   "outputs": [],
   "source": [
    "the_column = pn.Column(title_row, main_row, background='gray', width=1000, height=700)\n",
    "the_column"
   ]
  },
  {
   "cell_type": "markdown",
   "id": "126bcaff-7cb4-43f7-a61a-c5e9518800f5",
   "metadata": {},
   "source": [
    "## 3. How does the Interactivity work?"
   ]
  },
  {
   "cell_type": "markdown",
   "id": "c4940b6f-14ad-46ee-b9a8-42fb4687bba2",
   "metadata": {},
   "source": [
    "At its core, interactive application with panel can be with three things,\n",
    "\n",
    "- a widget\n",
    "- a function\n",
    "- a panel\n",
    "\n",
    "Say we wanted to create a function for which we can add 5 to any number we want from 1 to 100. We would first start with a widget."
   ]
  },
  {
   "cell_type": "code",
   "execution_count": null,
   "id": "b3bf4e63-67be-447f-9747-fcb16ba52e04",
   "metadata": {},
   "outputs": [],
   "source": [
    "widget_for_nums = pn.widgets.IntSlider(start=0, end=100, step=1, name=\"My Integer Widget\")\n",
    "widget_for_nums"
   ]
  },
  {
   "cell_type": "markdown",
   "id": "e340ef80-24b9-489e-a921-365e5f26e028",
   "metadata": {},
   "source": [
    "The next step is to create a function and decorate it with `@pn.depends()` while passing in the `widget_for_nums.param.value` attributes from our widget. What this does is that it allows the function to automatically update itself when we change the numbers selected by our slider."
   ]
  },
  {
   "cell_type": "code",
   "execution_count": null,
   "id": "c33900ea-e932-4fe8-8649-184ad42eef6b",
   "metadata": {},
   "outputs": [],
   "source": [
    "@pn.depends(widget_for_nums.param.value)\n",
    "def add_five_func(widget_for_nums):\n",
    "    return widget_for_nums + 5"
   ]
  },
  {
   "cell_type": "markdown",
   "id": "ae05985f-173d-4992-a0b5-712d22d8618e",
   "metadata": {},
   "source": [
    "Lastly, we need both the widget and the function to be inside a panel so that we can interact with both elements. Let's wrap both in a column."
   ]
  },
  {
   "cell_type": "code",
   "execution_count": null,
   "id": "6eac5f8c-f618-4543-b11d-0373eff53809",
   "metadata": {},
   "outputs": [],
   "source": [
    "pn.Column(widget_for_nums, add_five_func)"
   ]
  },
  {
   "cell_type": "markdown",
   "id": "a82b439f-466f-4862-9b66-fe555dc1a4ed",
   "metadata": {},
   "source": [
    "Now, armed with this process of widget, function, panel, you have the basis for creating powerful applications with python."
   ]
  },
  {
   "cell_type": "markdown",
   "id": "6e43e001-bfb9-467c-956b-5b71bec19582",
   "metadata": {},
   "source": [
    "## 4. Connecting the Dots"
   ]
  },
  {
   "cell_type": "markdown",
   "id": "56a3be8b-2ef8-4668-ba51-5ed71f246e5d",
   "metadata": {},
   "source": [
    "What we want to know.\n",
    "\n",
    "> What's the difference between `x` statistic per market by super hosts and regular hosts?\n",
    "\n",
    "Bars are used to visualise amounts, either continuous or categorical, but they are not necessarily the only ones we can use to show a given measure from our data. For instance, we can use dot plots to compare 2 amounts given a category. And that is what we want our \"dots that want to be bars\" to do.\n",
    "\n",
    "When we try to decompose charts we usally want to start with the title. A well thought-out title will give you enough context to understand the essence of the visualization. For example, the title, \"Median Income per County in the State of California\" is self-explanatory and only leaves one more question to ask, what kind of visual encoding did the creator of this chart use for it? From the title though, we know that we need an aggegate statistic from a category, in this case, some average the counties.\n",
    "\n",
    "For our visualization in the dashboard at the beginning of this notebook, we have a similar case as the example in the parragraph above, we have suburbs and we need several descriptive statistics for the two types of hosts we have, regular and super hosts. So let's start by creating a widget for these aggregate statistics."
   ]
  },
  {
   "cell_type": "code",
   "execution_count": null,
   "id": "4dbb468b-a3f2-41c1-bdbf-a1f640fb76f1",
   "metadata": {},
   "outputs": [],
   "source": [
    "stats_widgets = pn.widgets.Select(value='mean', \n",
    "                                  options=['min', 'mean', 'max', 'std'], \n",
    "                                  name='Statistics')\n",
    "# stats_widgets"
   ]
  },
  {
   "cell_type": "markdown",
   "id": "239728a0-052d-42a8-af14-bec3d7cc6f9b",
   "metadata": {},
   "source": [
    "We will use a now use a `.groupby()` operation to aggregate some of the statistics we are most interested in. Note, a good way to remember what `.groupby()` does is by asking ourselves, which caregories would I like to use to split these data by? In other words, \"for each `category` select `a_statistic` and do `x` aggregation such as the mean, min, max, count, etc.\"\n",
    "\n",
    "Before we group our data, let's take care of some outliers first."
   ]
  },
  {
   "cell_type": "code",
   "execution_count": null,
   "id": "f2a09ed1-8480-4219-950f-707beb33d9d9",
   "metadata": {},
   "outputs": [],
   "source": [
    "upper_outliers = ddf2.price < ddf2.price.quantile(0.99)\n",
    "upper_outliers = ddf2.price > ddf2.price.quantile(0.01)\n",
    "\n",
    "ddf3 = ddf2[upper_outliers & upper_outliers] "
   ]
  },
  {
   "cell_type": "code",
   "execution_count": null,
   "id": "91cc49e7-ce0f-4c54-bd7e-7a395125cb69",
   "metadata": {},
   "outputs": [],
   "source": [
    "with ProgressBar():\n",
    "    market_stats = ddf3.groupby(['market', 'host_is_superhost'])['price'].agg(['min', 'mean', 'max', 'std']).compute().reset_index()"
   ]
  },
  {
   "cell_type": "code",
   "execution_count": null,
   "id": "48b96eb6-065d-44f4-90ef-38d84f5d3f6b",
   "metadata": {
    "scrolled": true,
    "tags": []
   },
   "outputs": [],
   "source": [
    "superh = market_stats[market_stats['host_is_superhost'] == 't']\n",
    "regularh = market_stats[market_stats['host_is_superhost'] == 'f']\n",
    "superh"
   ]
  },
  {
   "cell_type": "markdown",
   "id": "30c28006-235c-4689-af55-5cc8c9e2bd8b",
   "metadata": {},
   "source": [
    "For most of our visualizations we will be using HoloViews, a library designed for \"shortcuts not dead ends.\" It is buoild on top bokeh, matplotlib, and plotly, and thus, it provides functionalities from all of these libraries. What you have to keep in mind though is, which backend you want to use for your session. As noted above with `hv.extension('bokeh', 'matplotlib')`, we have selected bokeh as our main backend and matplotlib as the second one.\n",
    "\n",
    "Since both bokeh and matplolib are excellent, extensive, and very mature libraries, we will not be covering the ins and outs of Holoviews, as it is a wrapper of both. Instead, we will be focusing on how to answer questions with commonly used visualisations, put them into a dashboard we can share with others, and, hopefully, learn a thing or about \"Stealing like Artists\" when we encounter designs that we like and inspire us.\n",
    "\n",
    "Let's now visualize our data using the `hv.Scatter` method. Other methods in Holoviews follow the same convention from matplotlib and bokeh. Below are some of them.\n",
    "- hv.Bars\n",
    "- hv.Points\n",
    "- hv.Polygons\n",
    "- hv.Area\n",
    "- hv.HeatMap\n",
    "- hv.Histogram\n",
    "- hv.Curve\n",
    "- hv.Sankey\n",
    "- hv.Image\n",
    "- `...`"
   ]
  },
  {
   "cell_type": "code",
   "execution_count": null,
   "id": "8862ebd4-be0f-409d-9dc5-610c3a4e9340",
   "metadata": {},
   "outputs": [],
   "source": [
    "hv.Scatter(superh, 'market', 'max')"
   ]
  },
  {
   "cell_type": "markdown",
   "id": "7cd89e2f-2bb1-4c09-82a4-c037864e703a",
   "metadata": {},
   "source": [
    "That's our chart from above but with only the default options. We need to give it some artistic love and customize it to our needs, and we will do so with the `.opts` element of HoloViews, which allows us to pass a plethora of options (like the ones below) to customise our charts.\n",
    "\n",
    "- title\n",
    "- color\n",
    "- line_color\n",
    "- alpha\n",
    "- yticks\n",
    "- ylim\n",
    "- yformatter\n",
    "- width\n",
    "- height\n",
    "- toolbar\n",
    "- labelled\n",
    "- bar_width\n",
    "\n",
    "To check more of the methods available at our disposal we can use, `hv.help(opts.Bars)` or, within a notebook, use `Shift + Tab` from within a chart constructor like `hv.Scatter()` and that will bring up all of the options available plus their description.\n",
    "\n",
    "Let's add a few options at a time and see how these change our plot."
   ]
  },
  {
   "cell_type": "code",
   "execution_count": null,
   "id": "196e3a21-ca9a-4403-ba58-d0f76aa25f62",
   "metadata": {},
   "outputs": [],
   "source": [
    "hv.Scatter(superh, 'market', 'max', label='Super Hosts').sort('max').opts(color='#D5E051', invert_axes=True, width=500, height=700)"
   ]
  },
  {
   "cell_type": "code",
   "execution_count": null,
   "id": "47c0dc2f-aeb9-4249-983d-8c47451488ee",
   "metadata": {},
   "outputs": [],
   "source": [
    "dots1 = (hv.Scatter(superh, 'market', 'mean', label='Super Hosts').sort('mean')\n",
    "           .opts(color='#8FBCBB', \n",
    "                 width=500,\n",
    "                 height=700,\n",
    "                 size=7, # controls the size of the dots\n",
    "                 show_grid=True, # enables the lines behind the dots\n",
    "                 invert_axes=True, \n",
    "                 toolbar=None, # hides the toolbar\n",
    "                 tools=['hover'], # shows the variables selected when we hover over them\n",
    "                 labelled=[], # hides the labels\n",
    "                 title=\"Average Price per Night and by Market\"))\n",
    "dots1"
   ]
  },
  {
   "cell_type": "markdown",
   "id": "2c3df680-af08-4ffa-bb12-5e5957309772",
   "metadata": {},
   "source": [
    "Much better, now things are starting to look and feel more like our original chart at the beginning of the notebook.\n",
    "\n",
    "We now need a second, similar chart with the regular hosts, and we will then overlay it on top of the one we just created."
   ]
  },
  {
   "cell_type": "code",
   "execution_count": null,
   "id": "322b34b9-beb3-4d70-8e34-75149f6d9ed6",
   "metadata": {},
   "outputs": [],
   "source": [
    "dots2 = hv.Scatter(regularh, 'market', 'mean', label='Regular Hosts').opts(size=7, color='#D08770')\n",
    "dots2"
   ]
  },
  {
   "cell_type": "markdown",
   "id": "02e617db-4910-47cc-9698-4e98f7b5b4a6",
   "metadata": {},
   "source": [
    "Notice that we didn't update this chart as we did with the other one, and that is because we only need to customise one when we plan to overlay the same charts with different data. To overlay them on top of one another, all we need is the `*` operator."
   ]
  },
  {
   "cell_type": "code",
   "execution_count": null,
   "id": "372478e6-de46-47b4-bb8e-2538f2ff771f",
   "metadata": {},
   "outputs": [],
   "source": [
    "(dots1 * dots2)"
   ]
  },
  {
   "cell_type": "markdown",
   "id": "cd50ae90-8161-42d8-a01f-cef969e73ec9",
   "metadata": {},
   "source": [
    "The last bit of the puzzle is to wrap these to chart constructors in a function and add our widget to it as a decorator, panel will do the rest for us."
   ]
  },
  {
   "cell_type": "code",
   "execution_count": null,
   "id": "cef5bcf7-261e-44b9-a3ea-ddda1cde2f23",
   "metadata": {},
   "outputs": [],
   "source": [
    "@pn.depends(stats_widgets.param.value)\n",
    "def my_dots(stats_widgets, **kwargs):\n",
    "    \n",
    "    dots1 = (hv.Scatter(superh, 'market', stats_widgets, label='Super Hosts').sort(stats_widgets)\n",
    "               .opts(color='#8FBCBB', width=500, height=600, show_grid=True, invert_axes=True, size=7,\n",
    "                     tools=['hover'], legend_position='bottom_right', toolbar=None, labelled=[], \n",
    "                     title=f\"{stats_widgets.title()} Price per Night and Suburb\"))\n",
    "    \n",
    "    dots2 = hv.Scatter(regularh, 'market', stats_widgets, label='Regular Hosts').opts(size=7, alpha=0.6, color='#D08770', tools=['hover'])\n",
    "    \n",
    "    return (dots1 * dots2)"
   ]
  },
  {
   "cell_type": "code",
   "execution_count": null,
   "id": "26925f6c-6acc-41fb-8b4d-175de18d6fd6",
   "metadata": {},
   "outputs": [],
   "source": [
    "pn.Column(stats_widgets, my_dots)"
   ]
  },
  {
   "cell_type": "markdown",
   "id": "bd3f2cf3-d3eb-45e1-bd55-343f31de9cb6",
   "metadata": {},
   "source": [
    "### Excersise\n",
    "\n",
    "Create a similar plot by grouping by countries, using any of the reviews variable as your numerical variable, and using the room or bed type as your categorical variable."
   ]
  },
  {
   "cell_type": "code",
   "execution_count": null,
   "id": "d249637b-1612-4d94-a138-5cfff38dcfab",
   "metadata": {},
   "outputs": [],
   "source": []
  },
  {
   "cell_type": "code",
   "execution_count": null,
   "id": "158533e5-a822-42af-bbad-ad04ec04f08b",
   "metadata": {},
   "outputs": [],
   "source": []
  },
  {
   "cell_type": "code",
   "execution_count": null,
   "id": "36b116f7-9024-4440-a0bb-4de234ffbe06",
   "metadata": {},
   "outputs": [],
   "source": []
  },
  {
   "cell_type": "code",
   "execution_count": null,
   "id": "ef079e10-3fea-49d2-900a-9709ba92a4af",
   "metadata": {},
   "outputs": [],
   "source": []
  },
  {
   "cell_type": "markdown",
   "id": "348a9f76-39b0-4476-9e4b-97c6489ca9a3",
   "metadata": {},
   "source": [
    "## 5. The Maps"
   ]
  },
  {
   "cell_type": "markdown",
   "id": "a337e39d-005c-4abf-a4d2-fc9108e9b90a",
   "metadata": {},
   "source": [
    "Let's begin by loading one of the maps we will be using. We'll start with Seattle but feel free to use whichever you'd prefer. We will set the index to the neighbourhood variable and drop an additional one that we don't need. We will use geopandas to read in the data and geoviews to visualise it.\n",
    "\n",
    "- [geopandas](https://geopandas.org/)\n",
    "> \"GeoPandas is an open source project to make working with geospatial data in python easier. GeoPandas extends the datatypes used by pandas to allow spatial operations on geometric types. Geometric operations are performed by shapely. Geopandas further depends on fiona for file access and matplotlib for plotting.\"\n",
    "\n",
    "- [GeoViews](https://geoviews.org/)\n",
    "> \"GeoViews is a Python library that makes it easy to explore and visualize geographical, meteorological, and oceanographic datasets, such as those used in weather, climate, and remote sensing research.\""
   ]
  },
  {
   "cell_type": "code",
   "execution_count": null,
   "id": "5171b910-9df0-4dba-b1f5-43929c2f5afb",
   "metadata": {},
   "outputs": [],
   "source": [
    "a_market = 'Seattle'"
   ]
  },
  {
   "cell_type": "code",
   "execution_count": null,
   "id": "dcff1ea5-a3e5-4b4f-bb06-8fde5820533a",
   "metadata": {},
   "outputs": [],
   "source": [
    "a_country = gpd.read_file(f'../data/external/{a_market}.geojson').set_index('neighbourhood').drop('neighbourhood_group', axis=1)\n",
    "a_country.head()"
   ]
  },
  {
   "cell_type": "markdown",
   "id": "d2cdd2f6-4dfd-4383-9e17-3650fd8e2ee8",
   "metadata": {},
   "source": [
    "The library `geoviews` takes in a geodataframe (or any other data structure) and it maps automatically the longitude and latitude of our shapes into the key dimensions, x and y. The values overlayed on top become the value dimensions and these will represent the name of the `Suburb` and the `price` that we used for the original dashboard at the top of the notebook. As before, we can add a label that will serve as the title, we can also customize the width and the height, and we can also add the hover tool from bokeh by passing using the `tools` parameter. Let's see a plain map first."
   ]
  },
  {
   "cell_type": "code",
   "execution_count": null,
   "id": "7e451ffa-7105-483a-9323-5da568ecdf6f",
   "metadata": {},
   "outputs": [],
   "source": [
    "gv.Polygons(a_country)"
   ]
  },
  {
   "cell_type": "markdown",
   "id": "56985165-dd03-409f-a82b-d203cd7936b7",
   "metadata": {},
   "source": [
    "Now what we need is a market from our dask dataframe and bring it down to a pandas one for illustration of this example."
   ]
  },
  {
   "cell_type": "code",
   "execution_count": null,
   "id": "1d3b64b2-d764-47b9-9326-93e19317c7f2",
   "metadata": {},
   "outputs": [],
   "source": [
    "main_data = ddf2.loc[a_market, ['neighbourhood', 'price']].groupby('neighbourhood')['price'].mean().compute()\n",
    "main_data.head()"
   ]
  },
  {
   "cell_type": "markdown",
   "id": "d6af4cd6-0849-46c9-80e5-e958e61af27c",
   "metadata": {},
   "source": [
    "Then we can merge these two together and overlay the average price on top of the neighbourhood blocks we saw before."
   ]
  },
  {
   "cell_type": "code",
   "execution_count": null,
   "id": "012b0cf4-4d93-449c-b82b-fe205cec8913",
   "metadata": {},
   "outputs": [],
   "source": [
    "merged_data = gpd.GeoDataFrame(pd.merge(main_data, a_country['geometry'], left_on='neighbourhood', right_index=True))\n",
    "merged_data.head()"
   ]
  },
  {
   "cell_type": "code",
   "execution_count": null,
   "id": "f65906b7-c720-4976-8e87-97fb08f70ebf",
   "metadata": {},
   "outputs": [],
   "source": [
    "gv.Polygons(merged_data, vdims=['neighbourhood', 'price'])#.opts(tools=['hover'], width=500, height=400, alpha=0.7,\n",
    "#                                                                         color='price', cmap='viridis_r',colorbar=True, \n",
    "#                                                                         toolbar='below', xaxis=None, yaxis=None, color_levels=20)"
   ]
  },
  {
   "cell_type": "markdown",
   "id": "ee58263e-4f3a-457c-b485-474971afbd22",
   "metadata": {},
   "source": [
    "Now our choropleth map is starting to look much and much better. Let's add a bit more options to make it look better."
   ]
  },
  {
   "cell_type": "code",
   "execution_count": null,
   "id": "87a3c206-a1e6-47db-865e-48fac97b7e38",
   "metadata": {},
   "outputs": [],
   "source": [
    "a_map = gv.Polygons(merged_data, vdims=['neighbourhood', 'price']).opts(width=500, height=400, xaxis=None, yaxis=None, # figure options\n",
    "                                                                        color='price', cmap='viridis_r', # color options\n",
    "                                                                        colorbar=True, color_levels=20, alpha=0.7, # more color options\n",
    "                                                                        toolbar='below', tools=['hover']) # toolbar options\n",
    "a_map"
   ]
  },
  {
   "cell_type": "markdown",
   "id": "abaab5b0-d5b3-4dd5-95df-0c36207b9fca",
   "metadata": {},
   "source": [
    "Lastly, we can pick any background from the `tiles` module from Holoviews and overlay it underneath our map."
   ]
  },
  {
   "cell_type": "code",
   "execution_count": null,
   "id": "3fc24cb4-28e5-48f2-97bd-1eb3d5f326a8",
   "metadata": {},
   "outputs": [],
   "source": [
    "tiles.CartoLight() * a_map"
   ]
  },
  {
   "cell_type": "markdown",
   "id": "e563aece-a2e5-48af-8a8a-b1d1c38d397c",
   "metadata": {},
   "source": [
    "Let's now select the markets we want to use and create our widget."
   ]
  },
  {
   "cell_type": "code",
   "execution_count": null,
   "id": "18bfa555-35ac-4b25-ae44-6b1a99959fd2",
   "metadata": {},
   "outputs": [],
   "source": [
    "markets = ['Amsterdam', 'Barcelona', 'Berlin', 'Brussels', 'Buenos Aires', 'Chicago', 'Copenhagen',\n",
    "           'Edinburgh', 'Florence', 'Geneva', 'Hong Kong', 'Istanbul', 'Lisbon', 'London', 'Los Angeles', 'Madrid',\n",
    "           'Montreal', 'New Orleans', 'New York', 'Oslo', 'Paris', 'Portland', 'Prague', 'Rio De Janeiro', 'San Francisco',\n",
    "           'Seattle', 'Stockholm', 'Sydney', 'Tokyo']\n",
    "\n",
    "sel_market = pn.widgets.Select(value='Amsterdam', options=markets, name=\"Markets\")\n",
    "sel_market"
   ]
  },
  {
   "cell_type": "markdown",
   "id": "ea573c09-14a2-4e9a-9f69-fb858aec5b9c",
   "metadata": {},
   "source": [
    "Our second step is to put the code from above in a function and allow it to change by the market."
   ]
  },
  {
   "cell_type": "code",
   "execution_count": null,
   "id": "82dbf5a4-a656-4a38-9e0a-4e259a25ef84",
   "metadata": {},
   "outputs": [],
   "source": [
    "@pn.depends(sel_market.param.value)\n",
    "def get_map(sel_market, **kwargs):\n",
    "    \n",
    "    geo_data = gpd.read_file(f'../data/external/{sel_market}.geojson').set_index('neighbourhood').drop('neighbourhood_group', axis=1)\n",
    "    \n",
    "    main_data = ddf2.loc[sel_market, ['neighbourhood', 'price']].groupby('neighbourhood')['price'].mean().compute()\n",
    "    \n",
    "    merged_data = gpd.GeoDataFrame(pd.merge(main_data, geo_data['geometry'], left_on='neighbourhood', right_index=True))\n",
    "\n",
    "    \n",
    "    fig = gv.Polygons(merged_data, vdims=['neighbourhood', 'price']).opts(tools=['hover'], width=500, height=400, alpha=0.7,\n",
    "                                                                        color='price', cmap='viridis_r',colorbar=True, \n",
    "                                                                        toolbar='below', xaxis=None, yaxis=None, color_levels=20)\n",
    "    \n",
    "    \n",
    "    return (tiles.CartoLight() * fig).relabel(label=f'Mean Listing Price for {sel_market}')"
   ]
  },
  {
   "cell_type": "markdown",
   "id": "146f5c0e-d7d2-40d8-8333-03d694d47615",
   "metadata": {},
   "source": [
    "The last piece of the puzzle is to put both, the widget and the function inside a panel, and explore the data to our heart's content."
   ]
  },
  {
   "cell_type": "code",
   "execution_count": null,
   "id": "c28141b7-cf29-4ade-8e96-01727bef82e1",
   "metadata": {},
   "outputs": [],
   "source": [
    "pn.Column(sel_market, get_map)"
   ]
  },
  {
   "cell_type": "code",
   "execution_count": null,
   "id": "8f8615c1-cce0-4b41-982d-d68b8dac6c6f",
   "metadata": {},
   "outputs": [],
   "source": []
  },
  {
   "cell_type": "markdown",
   "id": "8cede474-481d-4025-ae02-869b9f078536",
   "metadata": {},
   "source": [
    "### Exercise\n",
    "\n",
    "Create a choropleth map of the median price with an interactive widget containing the cancellation policy. For this you will need to\n",
    "1. Create a widget with the unique values of the cancellation policy column\n",
    "2. Select a market you'd like and create a groupby object by neighborhood and the cancellation policy, and then get the average price\n",
    "3. Reset the index of your market dataframe ad combine it with its respective geodataframe\n",
    "4. Create a function that combines all of the steps above and your widget\n",
    "5. Display widget and map as a row or column"
   ]
  },
  {
   "cell_type": "code",
   "execution_count": null,
   "id": "a39c9773-1ffe-43ed-97ad-5f44381ad598",
   "metadata": {},
   "outputs": [],
   "source": []
  },
  {
   "cell_type": "code",
   "execution_count": null,
   "id": "c4a32409-c939-44c9-981b-e46ab7e1969f",
   "metadata": {},
   "outputs": [],
   "source": []
  },
  {
   "cell_type": "markdown",
   "id": "86e916c8-9594-4d41-b92c-9fb245d1d08d",
   "metadata": {},
   "source": [
    "## 6. The BANs"
   ]
  },
  {
   "cell_type": "markdown",
   "id": "480aa8b7-bb9e-4adc-b8be-f91ea7cf0d78",
   "metadata": {},
   "source": [
    "What do we want to know?\n",
    "\n",
    "> WHat's the price distribution of our entire sample (e.g. min, 25th pct, median, 75th pct, and max)?\n",
    "\n",
    "I first heard of BAN's from the excellent book titled, \"The Big Book of Dashboards\" by Steve Wexler, Jeffrey Shaffer, and Andy Cotgreave, and BAN's stand for \"Big Ass Numbers\" or, depending on the setting, \"Big Angry Numbers.\"\n",
    "\n",
    "Panel has a nice function inside their indicators' sub-module that does just that and it is called, `pn.indicators.Number()`. We need two main parameters for BANs and these are, the `name=` which would be the title of our BAN, and the `value=` which is the number we would like to display."
   ]
  },
  {
   "cell_type": "code",
   "execution_count": null,
   "id": "960c01bb-0d36-41a5-9ff3-f138fb180b32",
   "metadata": {},
   "outputs": [],
   "source": [
    "pn.indicators.Number(name=\"A Fun Number\", value=1_000)"
   ]
  },
  {
   "cell_type": "markdown",
   "id": "3deebf62-aed4-42b7-a8a4-754cf5ee5828",
   "metadata": {},
   "source": [
    "We can customize our BAN quite a bit with\n",
    "- `default_color=` - which takes a string with either a HEX color or an actual color name such as \"brown\"\n",
    "- `font_size=` - which takes a string with a number for the size and the suffix `pt`, e.g. `\"20pt\"`\n",
    "- `title_size=` - which also takes a string in the same fashion as the `font_size=`\n",
    "\n",
    "In addition we can pass on other parameters such as, but not limited to, the following\n",
    "- `margin=` - a 4-value tuple representing the space in between the borders and the output, e.g. (top, right, bottom, left)\n",
    "- `align=` - a string telling panel how to align the value and title, e.g. `'center'`\n",
    "- `format=` - helps us format the number we want to display, for example, `'${value:,.0f}K'`, will take the value and show `$1,000K`"
   ]
  },
  {
   "cell_type": "code",
   "execution_count": null,
   "id": "66f4b077-17a2-4a89-9f56-5b0cf5614d54",
   "metadata": {},
   "outputs": [],
   "source": [
    "pn.indicators.Number(name=\"A Fun Number\", value=1_000, default_color='brown', \n",
    "                                font_size='30pt', title_size='50pt')"
   ]
  },
  {
   "cell_type": "code",
   "execution_count": null,
   "id": "668fe236-99e4-4245-a6eb-b7c6e180811b",
   "metadata": {},
   "outputs": [],
   "source": [
    "pn.indicators.Number(name=\"A Fun Number\", value=1_000, default_color='brown', margin=(0, 30, 0, 50),\n",
    "                                font_size='30pt', title_size='50pt', \n",
    "                                align='center', format='${value:,.0f}K')"
   ]
  },
  {
   "cell_type": "markdown",
   "id": "a856465d-9ecc-43dd-8b7f-33bd8459bbaa",
   "metadata": {},
   "source": [
    "Let's now create a widget for the property types we have in our dataset.\n",
    "\n",
    "**NB**: The colors used throghout the tutorial all come from [Nord](https://www.nordtheme.com/)."
   ]
  },
  {
   "cell_type": "code",
   "execution_count": null,
   "id": "4171d48e-0764-4908-8b34-3229dd2ac686",
   "metadata": {},
   "outputs": [],
   "source": [
    "# notice that having a dask object wrapped in a list() func triggers computations\n",
    "room_types = list(ddf3['room_type'].unique())\n",
    "room_types.remove('Hotel room')\n",
    "room_types"
   ]
  },
  {
   "cell_type": "code",
   "execution_count": null,
   "id": "686824e1-1be0-4217-afec-d5052a428639",
   "metadata": {},
   "outputs": [],
   "source": [
    "r_type = pn.widgets.Select(value='Private room', options=room_types, name='Room Types')\n",
    "# r_type"
   ]
  },
  {
   "cell_type": "markdown",
   "id": "9b49c501-a338-4e07-ac8c-0d97c3ab18db",
   "metadata": {},
   "source": [
    "We can create functions to display bans."
   ]
  },
  {
   "cell_type": "code",
   "execution_count": null,
   "id": "e31e9fb0-cf8e-4a79-bd02-e1dce41975ad",
   "metadata": {},
   "outputs": [],
   "source": [
    "def ban(title, value, c=1):\n",
    "    cols = ('#bf616a', '#d08770', '#ebcb8b', '#a3be8c', '#b48ead')\n",
    "    return pn.indicators.Number(name=title, value=value, default_color=cols[c], align='center', \n",
    "                                format='${value:,.0f}', font_size='20pt', title_size='20pt')"
   ]
  },
  {
   "cell_type": "code",
   "execution_count": null,
   "id": "0b8e9e02-c15c-47de-a9ce-9c894e66d5d5",
   "metadata": {},
   "outputs": [],
   "source": [
    "# let's test our function\n",
    "ban(title=\"Testing\", value=500, c=0)"
   ]
  },
  {
   "cell_type": "markdown",
   "id": "882495b5-1dfc-4d86-ac27-ea5c4560345c",
   "metadata": {},
   "source": [
    "Let's now create our 5 BANs with the descriptive statistics we want, in the thousands.\n",
    "\n",
    "function that takes in a title, a value, and a color."
   ]
  },
  {
   "cell_type": "code",
   "execution_count": null,
   "id": "df445fb7-ffdb-4bf6-9203-c12ee8e7f05b",
   "metadata": {
    "scrolled": true,
    "tags": []
   },
   "outputs": [],
   "source": [
    "room_groups = ddf3.groupby(['market', 'room_type'])['price'].agg(['mean', 'std']).compute().reset_index()\n",
    "room_groups"
   ]
  },
  {
   "cell_type": "code",
   "execution_count": null,
   "id": "7a787a99-9a2c-42d5-8d28-64043be1916b",
   "metadata": {},
   "outputs": [],
   "source": [
    "@pn.depends(r_type.param.value, sel_market.param.value)\n",
    "def ban_small(r_type, sel_market, **kwargs):\n",
    "    \n",
    "    g_opts = dict(default_color='#8FBCBB', align='center', # the global options that fit our 3 BANS\n",
    "                  font_size='17pt', title_size='17pt', format='${value:,.0f}', width=200, height=100)\n",
    "    \n",
    "    r_mask = room_groups['room_type'] == r_type\n",
    "    m_mask = room_groups['market'] == sel_market\n",
    "        \n",
    "    data = room_groups.loc[r_mask & m_mask, ['mean', 'std']].copy()\n",
    "    \n",
    "    main_title = pn.pane.Markdown(f\"# A {r_type} in {sel_market}\", style={'color':'#8FBCBB'})\n",
    "    \n",
    "    ban1 = pn.indicators.Number(name=\"Average Price\", value=data['mean'].item(), **g_opts)\n",
    "    ban2 = pn.indicators.Number(name=\"Standard Deviation\", value=data['std'].item(), **g_opts)\n",
    "    \n",
    "    return pn.Column(main_title, pn.Row(ban1, ban2, align='center', width=430), align='center')"
   ]
  },
  {
   "cell_type": "code",
   "execution_count": null,
   "id": "16a9d96f-897f-414f-9d95-99fbc14c0b43",
   "metadata": {},
   "outputs": [],
   "source": [
    "pn.Column(sel_market, r_type, ban_small, height=300, width=450)"
   ]
  },
  {
   "cell_type": "markdown",
   "id": "d9f3f59f-13da-4df1-9b91-7ff394ae5570",
   "metadata": {},
   "source": [
    "### Exercise\n",
    "\n",
    "Create a BAN function for the average price per bed type and have it interact with a country widget.\n",
    "\n",
    "1. Your function will take the country widget\n",
    "2. filter for a country\n",
    "3. that dataframe will be grouped by the bed_type column and\n",
    "4. you will take the mean of the price column\n",
    "5. display the ban and the widget in a `pn.Column()` object"
   ]
  },
  {
   "cell_type": "code",
   "execution_count": null,
   "id": "52d68a8b-a297-4407-974a-6cfef5474ab0",
   "metadata": {},
   "outputs": [],
   "source": []
  },
  {
   "cell_type": "markdown",
   "id": "021ee439-66f7-4000-bac9-2e63fd712932",
   "metadata": {},
   "source": [
    "## 7. The Tile"
   ]
  },
  {
   "cell_type": "markdown",
   "id": "948c7dae-1c29-4398-a3cc-e54a86a8f4c2",
   "metadata": {},
   "source": [
    "The title of a visualization and that of a dashboard, is one of the most important elements of a visual display. It gives us context and guidance as to what to expect from the visual set of encodings we are examining. That said, panel's pane element gives us a useful function, `pn.pane.Markdown()`, that allows us to create titles as if they were the heading of a Markdown file. Let's put it to use."
   ]
  },
  {
   "cell_type": "code",
   "execution_count": null,
   "id": "b666a8a3-d6dd-4dd7-b6ff-dedece1af8f3",
   "metadata": {},
   "outputs": [],
   "source": [
    "pn.pane.Markdown(\"# Worldwide Analysis of Airbnb\")"
   ]
  },
  {
   "cell_type": "markdown",
   "id": "722c51ff-d924-4b5c-b3dc-b16a9b5daf3a",
   "metadata": {},
   "source": [
    "As with other functionalities of panel, we get to customize with additional parameters such as\n",
    "- `style` - takes in a dictionary parameters we can use to change the text, for example, `{'color':'blue'}`\n",
    "- `sizing_mode` - offers functionalities to control how the content of the pane gets resized. stretch_width, stretch_height, and fixed are some of the most useful values for this function\n",
    "- `margin` - controls the location of the values displayed by the pane"
   ]
  },
  {
   "cell_type": "code",
   "execution_count": null,
   "id": "c21d8389-8b90-41fe-9ce0-37456715ca43",
   "metadata": {},
   "outputs": [],
   "source": [
    "pn.pane.Markdown(\"# Worldwide Analysis of Airbnb\", style={\"color\": \"#3b4252\"}, width=500)"
   ]
  },
  {
   "cell_type": "code",
   "execution_count": null,
   "id": "5c155277-399a-4109-b9c3-dfaa8b9ce059",
   "metadata": {},
   "outputs": [],
   "source": [
    "header = pn.pane.Markdown(\"# Worldwide Analysis of Airbnb Listings\", style={\"color\": \"#3b4252\"}, width=500, \n",
    "                          sizing_mode=\"stretch_width\", margin=(10,5,10,15))\n",
    "header"
   ]
  },
  {
   "cell_type": "markdown",
   "id": "d1b58aa2-b9c8-4625-ae7c-649e3ec388c7",
   "metadata": {},
   "source": [
    "Another useful functionality that comes from panel's pane is the `pn.pane.PNG`, which allows us to pass in a path to an image or a url containing one and it will display it for us. We do need to be careful with the sizing as this function takes the default size of the image and it may be to large for your use case."
   ]
  },
  {
   "cell_type": "code",
   "execution_count": null,
   "id": "9ab460fd-82c9-4296-93e0-6fa930ca3009",
   "metadata": {},
   "outputs": [],
   "source": [
    "pn.pane.PNG(\"https://icons.iconarchive.com/icons/google/noto-emoji-travel-places/1024/42486-house-icon.png\")"
   ]
  },
  {
   "cell_type": "code",
   "execution_count": null,
   "id": "6e46684e-5cbe-44ea-910c-f6571002b5e8",
   "metadata": {},
   "outputs": [],
   "source": [
    "p1 = pn.pane.PNG(\"https://icons.iconarchive.com/icons/google/noto-emoji-travel-places/1024/42486-house-icon.png\", \n",
    "                 height=50, sizing_mode=\"fixed\", align=\"center\")\n",
    "p1"
   ]
  },
  {
   "cell_type": "code",
   "execution_count": null,
   "id": "be984ea9-73fc-4def-9118-5d7e34a5d864",
   "metadata": {},
   "outputs": [],
   "source": [
    "p2 = pn.pane.PNG(\"https://i.pinimg.com/originals/a3/cd/30/a3cd30c0ba0e7f827dfe22e7a7011cd8.gif\", \n",
    "                 height=50, sizing_mode=\"fixed\", align=\"center\")\n",
    "p2"
   ]
  },
  {
   "cell_type": "markdown",
   "id": "61831a09-6a40-4efe-a26e-32efc1b9407e",
   "metadata": {},
   "source": [
    "We can also separate elements within from each other with `pn.Spacer()`."
   ]
  },
  {
   "cell_type": "code",
   "execution_count": null,
   "id": "3f08fc36-7a95-4bb6-a825-3068244fb0e8",
   "metadata": {},
   "outputs": [],
   "source": [
    "# no social distancing between these images\n",
    "pn.Row(p1, p2)"
   ]
  },
  {
   "cell_type": "code",
   "execution_count": null,
   "id": "4889e6fc-71f2-4ac6-9194-c6db69eab904",
   "metadata": {},
   "outputs": [],
   "source": [
    "# some social distancing\n",
    "pn.Row(p1, pn.Spacer(), p2)"
   ]
  },
  {
   "cell_type": "code",
   "execution_count": null,
   "id": "30d1a768-4c2a-4c7b-9246-843e6bd0c959",
   "metadata": {},
   "outputs": [],
   "source": [
    "# much better :)\n",
    "pn.Row(p1, pn.Spacer(width=30), p2)"
   ]
  },
  {
   "cell_type": "markdown",
   "id": "118b7afd-e360-4da3-9072-c00df2cf3642",
   "metadata": {},
   "source": [
    "Finally, let's put it all together and create the title for our dashboard."
   ]
  },
  {
   "cell_type": "code",
   "execution_count": null,
   "id": "5dbde0ce-092a-4563-97b8-ddbe477a227c",
   "metadata": {},
   "outputs": [],
   "source": [
    "title = pn.Row(header, pn.Spacer(), p1, p2, background=\"#d8dee9\", sizing_mode='fixed', width=1050, height=70)\n",
    "title"
   ]
  },
  {
   "cell_type": "markdown",
   "id": "5685c8a9-5593-4e92-88bd-4e15a70eb9bb",
   "metadata": {},
   "source": [
    "## Exercise\n",
    "\n",
    "Create a title with\n",
    "- Words in Markdown\n",
    "- An image ([inspiration](https://giphy.com/search/programming))\n",
    "- Some background color\n",
    "- Assign the final result to a variable called `my_title`"
   ]
  },
  {
   "cell_type": "code",
   "execution_count": null,
   "id": "c4a940d9-ef86-4acd-8b12-6af38a53e9a3",
   "metadata": {},
   "outputs": [],
   "source": []
  },
  {
   "cell_type": "code",
   "execution_count": null,
   "id": "b360b9f0-d9e0-492e-ba43-949d2891d05b",
   "metadata": {},
   "outputs": [],
   "source": []
  },
  {
   "cell_type": "code",
   "execution_count": null,
   "id": "0f44043e-2a7b-4d13-a08e-fbb7dfd8b5df",
   "metadata": {},
   "outputs": [],
   "source": []
  },
  {
   "cell_type": "markdown",
   "id": "c90e2bd8-edf2-44af-b860-402c5734e393",
   "metadata": {},
   "source": [
    "## 8. Putting it all Together"
   ]
  },
  {
   "cell_type": "markdown",
   "id": "6913c3d9-d5a3-447b-9cd4-e9e28ee231ff",
   "metadata": {},
   "source": [
    "The most important piece of this part is the sizing of your dashboard or app. Something that works for me is to either grab a pen and paper and draw what I envision as a dashboard before I create, dimensions included of course. Or, I come back to every elemnt while drawing boxed in a pieve of paper and assiging the width and the height to each line."
   ]
  },
  {
   "cell_type": "code",
   "execution_count": null,
   "id": "c5c45a32-d945-4450-8a42-c47839df6701",
   "metadata": {},
   "outputs": [],
   "source": [
    "r1  = pn.Row(r_type, sel_market, stats_widgets, width=1000, height=70, align='center')\n",
    "# r1"
   ]
  },
  {
   "cell_type": "code",
   "execution_count": null,
   "id": "cc3eaf38-730a-4032-b45a-899a0499e6b0",
   "metadata": {},
   "outputs": [],
   "source": [
    "c2 = pn.Column(ban_small, get_map, align='center')"
   ]
  },
  {
   "cell_type": "code",
   "execution_count": null,
   "id": "c9d622f4-722b-4464-b769-cc945a424fbd",
   "metadata": {},
   "outputs": [],
   "source": [
    "r2 = pn.Row(my_dots, pn.Spacer(width=100), c2, sizing_mode='fixed', align='center', width=1000, height=650)"
   ]
  },
  {
   "cell_type": "code",
   "execution_count": null,
   "id": "b49682f5-9e29-4ee1-921b-efb253d56596",
   "metadata": {},
   "outputs": [],
   "source": [
    "dashboard = pn.Column(title, r1, r2, background='#4C566A', sizing_mode='fixed', \n",
    "          align='center', height=800, width=1050)\n",
    "dashboard"
   ]
  },
  {
   "cell_type": "code",
   "execution_count": null,
   "id": "ddb4e086-40d9-4d4e-8d4b-f9a0ad9b7b01",
   "metadata": {},
   "outputs": [],
   "source": [
    "dashboard.save('dashboards/my_dash.html')"
   ]
  },
  {
   "cell_type": "markdown",
   "id": "2e2139a2-c26b-4f1f-9f8f-d7768c0a8dfb",
   "metadata": {},
   "source": [
    "## 9. Adding Themes to your dashboard"
   ]
  },
  {
   "cell_type": "markdown",
   "id": "0031fb9a-8ff2-44b7-a6c8-cc069e574592",
   "metadata": {},
   "source": [
    "The last piece of the puzzle is the theme. Since bokeh is built on top of JavaScript, it provides us with a `Theme` object to which we can pass a customized theme as a JSON specification. We then add our desired theme to the global settings of holoviews `hv.renderer('bokeh').theme = our_new_theme`.\n",
    "\n",
    "For more info regarding themes in bokeh please refer to [bokeh themes](https://docs.bokeh.org/en/latest/docs/reference/themes.html) or to [holoviews themes](https://holoviews.org/user_guide/Plotting_with_Bokeh.html)."
   ]
  },
  {
   "cell_type": "code",
   "execution_count": null,
   "id": "20a59f9a-a25d-4429-95a1-d824d3911894",
   "metadata": {},
   "outputs": [],
   "source": [
    "from bokeh.themes.theme import Theme"
   ]
  },
  {
   "cell_type": "code",
   "execution_count": null,
   "id": "ad3c2a07-2cb9-418c-bdd4-fa21453b6798",
   "metadata": {},
   "outputs": [],
   "source": [
    "theme = Theme(\n",
    "    json={\n",
    "    'attrs' : {\n",
    "        'Figure' : {\n",
    "            'background_fill_color': '#4c566a',\n",
    "            'border_fill_color': '#4c566a',\n",
    "            'outline_line_color': '#4c566a',\n",
    "        },\n",
    "        'Grid': {\n",
    "            'grid_line_dash': [6, 4],\n",
    "            'grid_line_alpha': .3,\n",
    "        },\n",
    "\n",
    "        'Axis': {\n",
    "            'major_label_text_color': '#d8dee9',\n",
    "            'axis_label_text_color': '#d8dee9',\n",
    "            'major_tick_line_color': '#d8dee9',\n",
    "            'minor_tick_line_color': '#d8dee9',\n",
    "            'axis_line_color': \"#d8dee9\"\n",
    "        },\n",
    "        'Title': {\n",
    "            'text_color': '#d8dee9'\n",
    "        }\n",
    "    }\n",
    "})"
   ]
  },
  {
   "cell_type": "code",
   "execution_count": null,
   "id": "9f98ac4b-da66-4ba9-905d-71a380dc185d",
   "metadata": {},
   "outputs": [],
   "source": [
    "hv.renderer('bokeh').theme = theme"
   ]
  },
  {
   "cell_type": "code",
   "execution_count": null,
   "id": "21a1db09-d19b-42c7-ac73-1028d2c6f276",
   "metadata": {},
   "outputs": [],
   "source": [
    "dashboard.show(threaded=True)\n",
    "\n",
    "# dashboard.save('dashboards/interactive_dash.html')"
   ]
  },
  {
   "cell_type": "code",
   "execution_count": null,
   "id": "f1346628-dfb2-4757-8367-9aff531217fe",
   "metadata": {},
   "outputs": [],
   "source": [
    "# to deactivate the theme we can set the global theme option to None\n",
    "# hv.renderer('bokeh').theme = None"
   ]
  },
  {
   "cell_type": "markdown",
   "id": "fcb6e631-a8b2-40d7-9067-0c865b901110",
   "metadata": {},
   "source": [
    "Let's see what we did in this notebook"
   ]
  },
  {
   "cell_type": "code",
   "execution_count": null,
   "id": "6bebf758-b7ca-4515-af7b-13ed6aebde74",
   "metadata": {},
   "outputs": [],
   "source": [
    "ddf3.visualize()"
   ]
  },
  {
   "cell_type": "markdown",
   "id": "0b279fcb-6820-4b34-bf3a-4cb4e98a80de",
   "metadata": {},
   "source": [
    "## 10. Summary"
   ]
  },
  {
   "cell_type": "markdown",
   "id": "941e2b7e-26f6-4367-9500-20ce446a541a",
   "metadata": {},
   "source": [
    "Here are some points to keep in mind from this notebook.\n",
    "1. Widgets can be created for categories or discrete numbers and floats, here we have used mainly categories\n",
    "2. Start building your visualisations step by step and once you have an MVP, focus onn wrapping the operations in functions\n",
    "3. Using the tools chosen for the tutorial, interactive charts require functions that are tied to widgets\n",
    "4. These functions get computed every time a value changes and the visual display gets updated\n",
    "5. The larger the dataset the longer a computation might take so we benefitted by having the indexes match our partitions"
   ]
  }
 ],
 "metadata": {
  "kernelspec": {
   "display_name": "Python 3",
   "language": "python",
   "name": "python3"
  },
  "language_info": {
   "codemirror_mode": {
    "name": "ipython",
    "version": 3
   },
   "file_extension": ".py",
   "mimetype": "text/x-python",
   "name": "python",
   "nbconvert_exporter": "python",
   "pygments_lexer": "ipython3",
   "version": "3.9.5"
  }
 },
 "nbformat": 4,
 "nbformat_minor": 5
}
